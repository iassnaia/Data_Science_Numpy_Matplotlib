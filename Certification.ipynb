{
 "cells": [
  {
   "cell_type": "markdown",
   "id": "7cdb2258",
   "metadata": {},
   "source": [
    "## 1. Импорт библиотек и загрузка данных\n",
    "\n",
    "* pandas as pd, numpy as np: для работы с данными и матричными операциями.\n",
    "* matplotlib, matplotlib.pyplot as plt, seaborn as sns: для визуализации данных.\n",
    "* train_test_split из sklearn.model_selection: для разделения данных на обучающий и тестовый наборы.\n",
    "* StandardScaler, RobustScaler из sklearn.preprocessing: для стандартизации данных.\n",
    "* RandomForestRegressor из sklearn.ensemble: для построения случайного леса.\n",
    "* r2_score из sklearn.metrics: для оценки модели с помощью коэффициента детерминации (R^2).\n",
    "* KFold, GridSearchCV из sklearn.model_selection: для кросс-валидации и поиска оптимальных параметров модели.\n",
    "* datetime для работы с датами и временем.\n",
    "* random для работы с генерацией случайных чисел.\n",
    "* pickle для сохранения и загрузки объектов Python в файлы.\n",
    "* %matplotlib inline: для встроенного отображения графиков в Jupyter Notebook.\n",
    "\n",
    "Настройки и предупреждения:\n",
    "\n",
    "* warnings.filterwarnings('ignore'): отключение предупреждений для улучшения читаемости вывода.\n",
    "* matplotlib.rcParams.update({'font.size': 14}): установка размера шрифта для всех графиков.\n",
    "\n",
    "Цель данного блока кода состоит в подготовке рабочей среды для анализа данных, построения моделей машинного обучения, и визуализации результатов. Все импортированные библиотеки и модули предоставляют необходимые инструменты для выполнения этих задач."
   ]
  },
  {
   "cell_type": "code",
   "execution_count": 1,
   "id": "7a37acd2",
   "metadata": {},
   "outputs": [],
   "source": [
    "import pandas as pd\n",
    "import numpy as np\n",
    "import matplotlib\n",
    "import matplotlib.pyplot as plt\n",
    "import seaborn as sns\n",
    "from sklearn.model_selection import train_test_split, cross_val_score\n",
    "from sklearn.preprocessing import StandardScaler, RobustScaler\n",
    "from sklearn.ensemble import RandomForestRegressor\n",
    "from sklearn.metrics import r2_score as r2\n",
    "from sklearn.model_selection import KFold, GridSearchCV\n",
    "from datetime import datetime\n",
    "import random\n",
    "import pickle\n",
    "%matplotlib inline\n",
    "\n",
    "import warnings\n",
    "warnings.filterwarnings('ignore')\n",
    "\n",
    "matplotlib.rcParams.update({'font.size': 14})"
   ]
  },
  {
   "cell_type": "code",
   "execution_count": 2,
   "id": "fbb8e95e",
   "metadata": {},
   "outputs": [],
   "source": [
    "train_df = pd.read_csv('train.csv')\n",
    "test_df = pd.read_csv('test.csv')"
   ]
  },
  {
   "cell_type": "code",
   "execution_count": 3,
   "id": "ef69f048",
   "metadata": {},
   "outputs": [
    {
     "data": {
      "text/html": [
       "<div>\n",
       "<style scoped>\n",
       "    .dataframe tbody tr th:only-of-type {\n",
       "        vertical-align: middle;\n",
       "    }\n",
       "\n",
       "    .dataframe tbody tr th {\n",
       "        vertical-align: top;\n",
       "    }\n",
       "\n",
       "    .dataframe thead th {\n",
       "        text-align: right;\n",
       "    }\n",
       "</style>\n",
       "<table border=\"1\" class=\"dataframe\">\n",
       "  <thead>\n",
       "    <tr style=\"text-align: right;\">\n",
       "      <th></th>\n",
       "      <th>Id</th>\n",
       "      <th>DistrictId</th>\n",
       "      <th>Rooms</th>\n",
       "      <th>Square</th>\n",
       "      <th>LifeSquare</th>\n",
       "      <th>KitchenSquare</th>\n",
       "      <th>Floor</th>\n",
       "      <th>HouseFloor</th>\n",
       "      <th>HouseYear</th>\n",
       "      <th>Ecology_1</th>\n",
       "      <th>Ecology_2</th>\n",
       "      <th>Ecology_3</th>\n",
       "      <th>Social_1</th>\n",
       "      <th>Social_2</th>\n",
       "      <th>Social_3</th>\n",
       "      <th>Healthcare_1</th>\n",
       "      <th>Helthcare_2</th>\n",
       "      <th>Shops_1</th>\n",
       "      <th>Shops_2</th>\n",
       "      <th>Price</th>\n",
       "    </tr>\n",
       "  </thead>\n",
       "  <tbody>\n",
       "    <tr>\n",
       "      <th>0</th>\n",
       "      <td>14038</td>\n",
       "      <td>35</td>\n",
       "      <td>2.0</td>\n",
       "      <td>47.981561</td>\n",
       "      <td>29.442751</td>\n",
       "      <td>6.0</td>\n",
       "      <td>7</td>\n",
       "      <td>9.0</td>\n",
       "      <td>1969</td>\n",
       "      <td>0.089040</td>\n",
       "      <td>B</td>\n",
       "      <td>B</td>\n",
       "      <td>33</td>\n",
       "      <td>7976</td>\n",
       "      <td>5</td>\n",
       "      <td>NaN</td>\n",
       "      <td>0</td>\n",
       "      <td>11</td>\n",
       "      <td>B</td>\n",
       "      <td>184966.930730</td>\n",
       "    </tr>\n",
       "    <tr>\n",
       "      <th>1</th>\n",
       "      <td>15053</td>\n",
       "      <td>41</td>\n",
       "      <td>3.0</td>\n",
       "      <td>65.683640</td>\n",
       "      <td>40.049543</td>\n",
       "      <td>8.0</td>\n",
       "      <td>7</td>\n",
       "      <td>9.0</td>\n",
       "      <td>1978</td>\n",
       "      <td>0.000070</td>\n",
       "      <td>B</td>\n",
       "      <td>B</td>\n",
       "      <td>46</td>\n",
       "      <td>10309</td>\n",
       "      <td>1</td>\n",
       "      <td>240.0</td>\n",
       "      <td>1</td>\n",
       "      <td>16</td>\n",
       "      <td>B</td>\n",
       "      <td>300009.450063</td>\n",
       "    </tr>\n",
       "    <tr>\n",
       "      <th>2</th>\n",
       "      <td>4765</td>\n",
       "      <td>53</td>\n",
       "      <td>2.0</td>\n",
       "      <td>44.947953</td>\n",
       "      <td>29.197612</td>\n",
       "      <td>0.0</td>\n",
       "      <td>8</td>\n",
       "      <td>12.0</td>\n",
       "      <td>1968</td>\n",
       "      <td>0.049637</td>\n",
       "      <td>B</td>\n",
       "      <td>B</td>\n",
       "      <td>34</td>\n",
       "      <td>7759</td>\n",
       "      <td>0</td>\n",
       "      <td>229.0</td>\n",
       "      <td>1</td>\n",
       "      <td>3</td>\n",
       "      <td>B</td>\n",
       "      <td>220925.908524</td>\n",
       "    </tr>\n",
       "    <tr>\n",
       "      <th>3</th>\n",
       "      <td>5809</td>\n",
       "      <td>58</td>\n",
       "      <td>2.0</td>\n",
       "      <td>53.352981</td>\n",
       "      <td>52.731512</td>\n",
       "      <td>9.0</td>\n",
       "      <td>8</td>\n",
       "      <td>17.0</td>\n",
       "      <td>1977</td>\n",
       "      <td>0.437885</td>\n",
       "      <td>B</td>\n",
       "      <td>B</td>\n",
       "      <td>23</td>\n",
       "      <td>5735</td>\n",
       "      <td>3</td>\n",
       "      <td>1084.0</td>\n",
       "      <td>0</td>\n",
       "      <td>5</td>\n",
       "      <td>B</td>\n",
       "      <td>175616.227217</td>\n",
       "    </tr>\n",
       "    <tr>\n",
       "      <th>4</th>\n",
       "      <td>10783</td>\n",
       "      <td>99</td>\n",
       "      <td>1.0</td>\n",
       "      <td>39.649192</td>\n",
       "      <td>23.776169</td>\n",
       "      <td>7.0</td>\n",
       "      <td>11</td>\n",
       "      <td>12.0</td>\n",
       "      <td>1976</td>\n",
       "      <td>0.012339</td>\n",
       "      <td>B</td>\n",
       "      <td>B</td>\n",
       "      <td>35</td>\n",
       "      <td>5776</td>\n",
       "      <td>1</td>\n",
       "      <td>2078.0</td>\n",
       "      <td>2</td>\n",
       "      <td>4</td>\n",
       "      <td>B</td>\n",
       "      <td>150226.531644</td>\n",
       "    </tr>\n",
       "  </tbody>\n",
       "</table>\n",
       "</div>"
      ],
      "text/plain": [
       "      Id  DistrictId  Rooms     Square  LifeSquare  KitchenSquare  Floor  \\\n",
       "0  14038          35    2.0  47.981561   29.442751            6.0      7   \n",
       "1  15053          41    3.0  65.683640   40.049543            8.0      7   \n",
       "2   4765          53    2.0  44.947953   29.197612            0.0      8   \n",
       "3   5809          58    2.0  53.352981   52.731512            9.0      8   \n",
       "4  10783          99    1.0  39.649192   23.776169            7.0     11   \n",
       "\n",
       "   HouseFloor  HouseYear  Ecology_1 Ecology_2 Ecology_3  Social_1  Social_2  \\\n",
       "0         9.0       1969   0.089040         B         B        33      7976   \n",
       "1         9.0       1978   0.000070         B         B        46     10309   \n",
       "2        12.0       1968   0.049637         B         B        34      7759   \n",
       "3        17.0       1977   0.437885         B         B        23      5735   \n",
       "4        12.0       1976   0.012339         B         B        35      5776   \n",
       "\n",
       "   Social_3  Healthcare_1  Helthcare_2  Shops_1 Shops_2          Price  \n",
       "0         5           NaN            0       11       B  184966.930730  \n",
       "1         1         240.0            1       16       B  300009.450063  \n",
       "2         0         229.0            1        3       B  220925.908524  \n",
       "3         3        1084.0            0        5       B  175616.227217  \n",
       "4         1        2078.0            2        4       B  150226.531644  "
      ]
     },
     "execution_count": 3,
     "metadata": {},
     "output_type": "execute_result"
    }
   ],
   "source": [
    "train_df.head()"
   ]
  },
  {
   "cell_type": "markdown",
   "id": "79292ed2",
   "metadata": {},
   "source": [
    "__Описание датасета__\n",
    "\n",
    "* id - идентификационный номер квартиры\n",
    "* DistrictId - идентификационный номер района\n",
    "* Rooms - количество комнат\n",
    "* Square - площадь\n",
    "* LifeSquare - жилая площадь\n",
    "* KitchenSquare - площадь кухни\n",
    "* Floor - этаж\n",
    "* HouseFloor - количество этажей в доме\n",
    "* HouseYear - год постройки\n",
    "* Ecology_1, Ecology_2, Ecology_3 - экологические показатели местности\n",
    "* Social_1, Social_2, Social_3 - социальные показатели местности\n",
    "* Healthcare_1, Healthcare_2 - показатели местности, связанные с охраной здоровья\n",
    "* Shops_1, Shops_2 - показатели, связанные с наличием магазинов, торговых центров\n"
   ]
  },
  {
   "cell_type": "markdown",
   "id": "5337f440",
   "metadata": {},
   "source": [
    "## 2. Предварительная обработка данных\n",
    "Проверка и обработка пропущенных значений.\n",
    "\n",
    "Пропущенные значения могут оказывать значительное влияние на модель, поэтому их нужно обработать."
   ]
  },
  {
   "cell_type": "code",
   "execution_count": 4,
   "id": "4d34cc2c",
   "metadata": {},
   "outputs": [
    {
     "name": "stdout",
     "output_type": "stream",
     "text": [
      "<class 'pandas.core.frame.DataFrame'>\n",
      "RangeIndex: 10000 entries, 0 to 9999\n",
      "Data columns (total 20 columns):\n",
      " #   Column         Non-Null Count  Dtype  \n",
      "---  ------         --------------  -----  \n",
      " 0   Id             10000 non-null  int64  \n",
      " 1   DistrictId     10000 non-null  int64  \n",
      " 2   Rooms          10000 non-null  float64\n",
      " 3   Square         10000 non-null  float64\n",
      " 4   LifeSquare     7887 non-null   float64\n",
      " 5   KitchenSquare  10000 non-null  float64\n",
      " 6   Floor          10000 non-null  int64  \n",
      " 7   HouseFloor     10000 non-null  float64\n",
      " 8   HouseYear      10000 non-null  int64  \n",
      " 9   Ecology_1      10000 non-null  float64\n",
      " 10  Ecology_2      10000 non-null  object \n",
      " 11  Ecology_3      10000 non-null  object \n",
      " 12  Social_1       10000 non-null  int64  \n",
      " 13  Social_2       10000 non-null  int64  \n",
      " 14  Social_3       10000 non-null  int64  \n",
      " 15  Healthcare_1   5202 non-null   float64\n",
      " 16  Helthcare_2    10000 non-null  int64  \n",
      " 17  Shops_1        10000 non-null  int64  \n",
      " 18  Shops_2        10000 non-null  object \n",
      " 19  Price          10000 non-null  float64\n",
      "dtypes: float64(8), int64(9), object(3)\n",
      "memory usage: 1.5+ MB\n"
     ]
    }
   ],
   "source": [
    "train_df.info()"
   ]
  },
  {
   "cell_type": "markdown",
   "id": "9d4a0260",
   "metadata": {},
   "source": [
    "Количество строк и столбцов:\n",
    "\n",
    "Всего 10000 записей (строк).\n",
    "20 столбцов.\n",
    "Информация о столбцах:\n",
    "\n",
    "* Id: уникальный идентификатор наблюдения.\n",
    "* DistrictId: идентификатор района.\n",
    "* Rooms: количество комнат (вещественное число).\n",
    "* Square: общая площадь квартиры в квадратных метрах (вещественное число).\n",
    "* LifeSquare: жилая площадь квартиры в квадратных метрах (вещественное число). Имеет пропуски (2113 непустых значений из 10000).\n",
    "* KitchenSquare: площадь кухни в квадратных метрах (вещественное число).\n",
    "* Floor: этаж, на котором расположена квартира (целое число).\n",
    "* HouseFloor: количество этажей в доме, где расположена квартира (вещественное число).\n",
    "* HouseYear: год постройки дома (целое число).\n",
    "* Ecology_1: экологический показатель окружающей среды (вещественное число).\n",
    "* Ecology_2, Ecology_3: бинарные признаки, характеризующие экологическую ситуацию.\n",
    "* Social_1, Social_2, Social_3: социальные показатели, характеризующие инфраструктуру района (вещественные числа).\n",
    "* Healthcare_1: показатель наличия медицинских учреждений в районе. Имеет пропуски (4798 непустых значений из 10000).\n",
    "* Helthcare_2: количество медицинских учреждений в районе (целое число).\n",
    "* Shops_1: количество магазинов в районе (целое число).\n",
    "* Shops_2: бинарный признак, характеризующий наличие магазинов.\n",
    "* Price: цена квартиры (вещественное число).\n",
    "\n",
    "Типы данных:\n",
    "\n",
    "Всего 8 столбцов типа float64 (вещественные числа).\n",
    "\n",
    "Всего 9 столбцов типа int64 (целые числа).\n",
    "\n",
    "Всего 3 столбца типа object (текстовые данные).\n",
    "\n",
    "Эта информация полезна для понимания структуры данных, идентификации пропусков и выбора подходящих методов обработки данных и построения моделей машинного обучения."
   ]
  },
  {
   "cell_type": "code",
   "execution_count": 5,
   "id": "47343c8c",
   "metadata": {},
   "outputs": [
    {
     "data": {
      "text/html": [
       "<div>\n",
       "<style scoped>\n",
       "    .dataframe tbody tr th:only-of-type {\n",
       "        vertical-align: middle;\n",
       "    }\n",
       "\n",
       "    .dataframe tbody tr th {\n",
       "        vertical-align: top;\n",
       "    }\n",
       "\n",
       "    .dataframe thead th {\n",
       "        text-align: right;\n",
       "    }\n",
       "</style>\n",
       "<table border=\"1\" class=\"dataframe\">\n",
       "  <thead>\n",
       "    <tr style=\"text-align: right;\">\n",
       "      <th></th>\n",
       "      <th>Id</th>\n",
       "      <th>DistrictId</th>\n",
       "      <th>Rooms</th>\n",
       "      <th>Square</th>\n",
       "      <th>LifeSquare</th>\n",
       "      <th>KitchenSquare</th>\n",
       "      <th>Floor</th>\n",
       "      <th>HouseFloor</th>\n",
       "      <th>HouseYear</th>\n",
       "      <th>Ecology_1</th>\n",
       "      <th>Social_1</th>\n",
       "      <th>Social_2</th>\n",
       "      <th>Social_3</th>\n",
       "      <th>Healthcare_1</th>\n",
       "      <th>Helthcare_2</th>\n",
       "      <th>Shops_1</th>\n",
       "      <th>Price</th>\n",
       "    </tr>\n",
       "  </thead>\n",
       "  <tbody>\n",
       "    <tr>\n",
       "      <th>count</th>\n",
       "      <td>10000.00000</td>\n",
       "      <td>10000.000000</td>\n",
       "      <td>10000.000000</td>\n",
       "      <td>10000.000000</td>\n",
       "      <td>7887.000000</td>\n",
       "      <td>10000.000000</td>\n",
       "      <td>10000.000000</td>\n",
       "      <td>10000.000000</td>\n",
       "      <td>1.000000e+04</td>\n",
       "      <td>10000.000000</td>\n",
       "      <td>10000.000000</td>\n",
       "      <td>10000.000000</td>\n",
       "      <td>10000.000000</td>\n",
       "      <td>5202.000000</td>\n",
       "      <td>10000.000000</td>\n",
       "      <td>10000.000000</td>\n",
       "      <td>10000.000000</td>\n",
       "    </tr>\n",
       "    <tr>\n",
       "      <th>mean</th>\n",
       "      <td>8383.40770</td>\n",
       "      <td>50.400800</td>\n",
       "      <td>1.890500</td>\n",
       "      <td>56.315775</td>\n",
       "      <td>37.199645</td>\n",
       "      <td>6.273300</td>\n",
       "      <td>8.526700</td>\n",
       "      <td>12.609400</td>\n",
       "      <td>3.990166e+03</td>\n",
       "      <td>0.118858</td>\n",
       "      <td>24.687000</td>\n",
       "      <td>5352.157400</td>\n",
       "      <td>8.039200</td>\n",
       "      <td>1142.904460</td>\n",
       "      <td>1.319500</td>\n",
       "      <td>4.231300</td>\n",
       "      <td>214138.857399</td>\n",
       "    </tr>\n",
       "    <tr>\n",
       "      <th>std</th>\n",
       "      <td>4859.01902</td>\n",
       "      <td>43.587592</td>\n",
       "      <td>0.839512</td>\n",
       "      <td>21.058732</td>\n",
       "      <td>86.241209</td>\n",
       "      <td>28.560917</td>\n",
       "      <td>5.241148</td>\n",
       "      <td>6.775974</td>\n",
       "      <td>2.005003e+05</td>\n",
       "      <td>0.119025</td>\n",
       "      <td>17.532614</td>\n",
       "      <td>4006.799803</td>\n",
       "      <td>23.831875</td>\n",
       "      <td>1021.517264</td>\n",
       "      <td>1.493601</td>\n",
       "      <td>4.806341</td>\n",
       "      <td>92872.293865</td>\n",
       "    </tr>\n",
       "    <tr>\n",
       "      <th>min</th>\n",
       "      <td>0.00000</td>\n",
       "      <td>0.000000</td>\n",
       "      <td>0.000000</td>\n",
       "      <td>1.136859</td>\n",
       "      <td>0.370619</td>\n",
       "      <td>0.000000</td>\n",
       "      <td>1.000000</td>\n",
       "      <td>0.000000</td>\n",
       "      <td>1.910000e+03</td>\n",
       "      <td>0.000000</td>\n",
       "      <td>0.000000</td>\n",
       "      <td>168.000000</td>\n",
       "      <td>0.000000</td>\n",
       "      <td>0.000000</td>\n",
       "      <td>0.000000</td>\n",
       "      <td>0.000000</td>\n",
       "      <td>59174.778028</td>\n",
       "    </tr>\n",
       "    <tr>\n",
       "      <th>25%</th>\n",
       "      <td>4169.50000</td>\n",
       "      <td>20.000000</td>\n",
       "      <td>1.000000</td>\n",
       "      <td>41.774881</td>\n",
       "      <td>22.769832</td>\n",
       "      <td>1.000000</td>\n",
       "      <td>4.000000</td>\n",
       "      <td>9.000000</td>\n",
       "      <td>1.974000e+03</td>\n",
       "      <td>0.017647</td>\n",
       "      <td>6.000000</td>\n",
       "      <td>1564.000000</td>\n",
       "      <td>0.000000</td>\n",
       "      <td>350.000000</td>\n",
       "      <td>0.000000</td>\n",
       "      <td>1.000000</td>\n",
       "      <td>153872.633942</td>\n",
       "    </tr>\n",
       "    <tr>\n",
       "      <th>50%</th>\n",
       "      <td>8394.50000</td>\n",
       "      <td>36.000000</td>\n",
       "      <td>2.000000</td>\n",
       "      <td>52.513310</td>\n",
       "      <td>32.781260</td>\n",
       "      <td>6.000000</td>\n",
       "      <td>7.000000</td>\n",
       "      <td>13.000000</td>\n",
       "      <td>1.977000e+03</td>\n",
       "      <td>0.075424</td>\n",
       "      <td>25.000000</td>\n",
       "      <td>5285.000000</td>\n",
       "      <td>2.000000</td>\n",
       "      <td>900.000000</td>\n",
       "      <td>1.000000</td>\n",
       "      <td>3.000000</td>\n",
       "      <td>192269.644879</td>\n",
       "    </tr>\n",
       "    <tr>\n",
       "      <th>75%</th>\n",
       "      <td>12592.50000</td>\n",
       "      <td>75.000000</td>\n",
       "      <td>2.000000</td>\n",
       "      <td>65.900625</td>\n",
       "      <td>45.128803</td>\n",
       "      <td>9.000000</td>\n",
       "      <td>12.000000</td>\n",
       "      <td>17.000000</td>\n",
       "      <td>2.001000e+03</td>\n",
       "      <td>0.195781</td>\n",
       "      <td>36.000000</td>\n",
       "      <td>7227.000000</td>\n",
       "      <td>5.000000</td>\n",
       "      <td>1548.000000</td>\n",
       "      <td>2.000000</td>\n",
       "      <td>6.000000</td>\n",
       "      <td>249135.462171</td>\n",
       "    </tr>\n",
       "    <tr>\n",
       "      <th>max</th>\n",
       "      <td>16798.00000</td>\n",
       "      <td>209.000000</td>\n",
       "      <td>19.000000</td>\n",
       "      <td>641.065193</td>\n",
       "      <td>7480.592129</td>\n",
       "      <td>2014.000000</td>\n",
       "      <td>42.000000</td>\n",
       "      <td>117.000000</td>\n",
       "      <td>2.005201e+07</td>\n",
       "      <td>0.521867</td>\n",
       "      <td>74.000000</td>\n",
       "      <td>19083.000000</td>\n",
       "      <td>141.000000</td>\n",
       "      <td>4849.000000</td>\n",
       "      <td>6.000000</td>\n",
       "      <td>23.000000</td>\n",
       "      <td>633233.466570</td>\n",
       "    </tr>\n",
       "  </tbody>\n",
       "</table>\n",
       "</div>"
      ],
      "text/plain": [
       "                Id    DistrictId         Rooms        Square   LifeSquare  \\\n",
       "count  10000.00000  10000.000000  10000.000000  10000.000000  7887.000000   \n",
       "mean    8383.40770     50.400800      1.890500     56.315775    37.199645   \n",
       "std     4859.01902     43.587592      0.839512     21.058732    86.241209   \n",
       "min        0.00000      0.000000      0.000000      1.136859     0.370619   \n",
       "25%     4169.50000     20.000000      1.000000     41.774881    22.769832   \n",
       "50%     8394.50000     36.000000      2.000000     52.513310    32.781260   \n",
       "75%    12592.50000     75.000000      2.000000     65.900625    45.128803   \n",
       "max    16798.00000    209.000000     19.000000    641.065193  7480.592129   \n",
       "\n",
       "       KitchenSquare         Floor    HouseFloor     HouseYear     Ecology_1  \\\n",
       "count   10000.000000  10000.000000  10000.000000  1.000000e+04  10000.000000   \n",
       "mean        6.273300      8.526700     12.609400  3.990166e+03      0.118858   \n",
       "std        28.560917      5.241148      6.775974  2.005003e+05      0.119025   \n",
       "min         0.000000      1.000000      0.000000  1.910000e+03      0.000000   \n",
       "25%         1.000000      4.000000      9.000000  1.974000e+03      0.017647   \n",
       "50%         6.000000      7.000000     13.000000  1.977000e+03      0.075424   \n",
       "75%         9.000000     12.000000     17.000000  2.001000e+03      0.195781   \n",
       "max      2014.000000     42.000000    117.000000  2.005201e+07      0.521867   \n",
       "\n",
       "           Social_1      Social_2      Social_3  Healthcare_1   Helthcare_2  \\\n",
       "count  10000.000000  10000.000000  10000.000000   5202.000000  10000.000000   \n",
       "mean      24.687000   5352.157400      8.039200   1142.904460      1.319500   \n",
       "std       17.532614   4006.799803     23.831875   1021.517264      1.493601   \n",
       "min        0.000000    168.000000      0.000000      0.000000      0.000000   \n",
       "25%        6.000000   1564.000000      0.000000    350.000000      0.000000   \n",
       "50%       25.000000   5285.000000      2.000000    900.000000      1.000000   \n",
       "75%       36.000000   7227.000000      5.000000   1548.000000      2.000000   \n",
       "max       74.000000  19083.000000    141.000000   4849.000000      6.000000   \n",
       "\n",
       "            Shops_1          Price  \n",
       "count  10000.000000   10000.000000  \n",
       "mean       4.231300  214138.857399  \n",
       "std        4.806341   92872.293865  \n",
       "min        0.000000   59174.778028  \n",
       "25%        1.000000  153872.633942  \n",
       "50%        3.000000  192269.644879  \n",
       "75%        6.000000  249135.462171  \n",
       "max       23.000000  633233.466570  "
      ]
     },
     "execution_count": 5,
     "metadata": {},
     "output_type": "execute_result"
    }
   ],
   "source": [
    "train_df.describe()"
   ]
  },
  {
   "cell_type": "markdown",
   "id": "a2b538db",
   "metadata": {},
   "source": [
    "* count: количество непустых значений в каждом столбце.\n",
    "* mean: среднее значение по столбцу.\n",
    "* std: стандартное отклонение значений.\n",
    "* min: минимальное значение.\n",
    "* 25%, 50%, 75%: квантили, означающие значение, которое делит упорядоченное распределение на четыре равные части.\n",
    "* max: максимальное значение.\n",
    "\n",
    "Различные статистические параметры дают представление о распределении данных и характере каждого числового столбца в датафрейме. Например:\n",
    "\n",
    "* Rooms: среднее количество комнат около 1.89, с минимальным значением 0 и максимальным 19.\n",
    "* Square: средняя площадь квартир около 56.32 кв. м, с минимальным значением 1.14 и максимальным 641.07 кв. м.\n",
    "* Price: средняя цена квартир около 214138.86 у.е., с минимальным значением 59174.78 у.е. и максимальным 633233.47 у.е.\n",
    "\n",
    "Эти статистические данные помогают понять общую картину данных и могут использоваться для идентификации выбросов, аномалий и обоснования выбора методов предобработки данных и моделей машинного обучения."
   ]
  },
  {
   "cell_type": "code",
   "execution_count": 6,
   "id": "d0802cfe",
   "metadata": {},
   "outputs": [
    {
     "data": {
      "text/plain": [
       "(10000, 20)"
      ]
     },
     "execution_count": 6,
     "metadata": {},
     "output_type": "execute_result"
    }
   ],
   "source": [
    "train_df.shape"
   ]
  },
  {
   "cell_type": "markdown",
   "id": "44a5dd90",
   "metadata": {},
   "source": [
    "Это важная информация, которая указывает на размерность данных: 10000 наблюдений и 20 признаков. Зная это, можно оценить общий объем данных, которые будут использоваться для обучения модели, а также проверить соответствие ожидаемой размерности данных в процессе их обработки и моделирования."
   ]
  },
  {
   "cell_type": "code",
   "execution_count": 9,
   "id": "3d7af2c5",
   "metadata": {},
   "outputs": [
    {
     "data": {
      "text/html": [
       "<div>\n",
       "<style scoped>\n",
       "    .dataframe tbody tr th:only-of-type {\n",
       "        vertical-align: middle;\n",
       "    }\n",
       "\n",
       "    .dataframe tbody tr th {\n",
       "        vertical-align: top;\n",
       "    }\n",
       "\n",
       "    .dataframe thead th {\n",
       "        text-align: right;\n",
       "    }\n",
       "</style>\n",
       "<table border=\"1\" class=\"dataframe\">\n",
       "  <thead>\n",
       "    <tr style=\"text-align: right;\">\n",
       "      <th></th>\n",
       "      <th>Id</th>\n",
       "      <th>DistrictId</th>\n",
       "      <th>Rooms</th>\n",
       "      <th>Square</th>\n",
       "      <th>LifeSquare</th>\n",
       "      <th>KitchenSquare</th>\n",
       "      <th>Floor</th>\n",
       "      <th>HouseFloor</th>\n",
       "      <th>HouseYear</th>\n",
       "      <th>Ecology_1</th>\n",
       "      <th>Social_1</th>\n",
       "      <th>Social_2</th>\n",
       "      <th>Social_3</th>\n",
       "      <th>Healthcare_1</th>\n",
       "      <th>Helthcare_2</th>\n",
       "      <th>Shops_1</th>\n",
       "    </tr>\n",
       "  </thead>\n",
       "  <tbody>\n",
       "    <tr>\n",
       "      <th>count</th>\n",
       "      <td>5000.000000</td>\n",
       "      <td>5000.000000</td>\n",
       "      <td>5000.000000</td>\n",
       "      <td>5000.000000</td>\n",
       "      <td>3959.000000</td>\n",
       "      <td>5000.000000</td>\n",
       "      <td>5000.000000</td>\n",
       "      <td>5000.000000</td>\n",
       "      <td>5000.000000</td>\n",
       "      <td>5000.000000</td>\n",
       "      <td>5000.000000</td>\n",
       "      <td>5000.000000</td>\n",
       "      <td>5000.000000</td>\n",
       "      <td>2623.000000</td>\n",
       "      <td>5000.00000</td>\n",
       "      <td>5000.000000</td>\n",
       "    </tr>\n",
       "    <tr>\n",
       "      <th>mean</th>\n",
       "      <td>8412.595400</td>\n",
       "      <td>51.279200</td>\n",
       "      <td>1.910000</td>\n",
       "      <td>56.449500</td>\n",
       "      <td>36.158810</td>\n",
       "      <td>5.976800</td>\n",
       "      <td>8.632000</td>\n",
       "      <td>12.601000</td>\n",
       "      <td>1984.392600</td>\n",
       "      <td>0.119874</td>\n",
       "      <td>24.933800</td>\n",
       "      <td>5406.900000</td>\n",
       "      <td>8.262600</td>\n",
       "      <td>1146.657263</td>\n",
       "      <td>1.31940</td>\n",
       "      <td>4.242800</td>\n",
       "    </tr>\n",
       "    <tr>\n",
       "      <th>std</th>\n",
       "      <td>4832.674037</td>\n",
       "      <td>44.179466</td>\n",
       "      <td>0.838594</td>\n",
       "      <td>19.092787</td>\n",
       "      <td>17.825287</td>\n",
       "      <td>9.950018</td>\n",
       "      <td>5.483228</td>\n",
       "      <td>6.789213</td>\n",
       "      <td>18.573149</td>\n",
       "      <td>0.120070</td>\n",
       "      <td>17.532202</td>\n",
       "      <td>4026.614773</td>\n",
       "      <td>23.863762</td>\n",
       "      <td>1044.744231</td>\n",
       "      <td>1.47994</td>\n",
       "      <td>4.777365</td>\n",
       "    </tr>\n",
       "    <tr>\n",
       "      <th>min</th>\n",
       "      <td>1.000000</td>\n",
       "      <td>0.000000</td>\n",
       "      <td>0.000000</td>\n",
       "      <td>1.378543</td>\n",
       "      <td>0.333490</td>\n",
       "      <td>0.000000</td>\n",
       "      <td>1.000000</td>\n",
       "      <td>0.000000</td>\n",
       "      <td>1908.000000</td>\n",
       "      <td>0.000000</td>\n",
       "      <td>0.000000</td>\n",
       "      <td>168.000000</td>\n",
       "      <td>0.000000</td>\n",
       "      <td>0.000000</td>\n",
       "      <td>0.00000</td>\n",
       "      <td>0.000000</td>\n",
       "    </tr>\n",
       "    <tr>\n",
       "      <th>25%</th>\n",
       "      <td>4221.750000</td>\n",
       "      <td>21.000000</td>\n",
       "      <td>1.000000</td>\n",
       "      <td>41.906231</td>\n",
       "      <td>23.092026</td>\n",
       "      <td>1.000000</td>\n",
       "      <td>4.000000</td>\n",
       "      <td>9.000000</td>\n",
       "      <td>1973.000000</td>\n",
       "      <td>0.019509</td>\n",
       "      <td>6.000000</td>\n",
       "      <td>1564.000000</td>\n",
       "      <td>0.000000</td>\n",
       "      <td>325.000000</td>\n",
       "      <td>0.00000</td>\n",
       "      <td>1.000000</td>\n",
       "    </tr>\n",
       "    <tr>\n",
       "      <th>50%</th>\n",
       "      <td>8320.500000</td>\n",
       "      <td>37.000000</td>\n",
       "      <td>2.000000</td>\n",
       "      <td>52.921340</td>\n",
       "      <td>32.925087</td>\n",
       "      <td>6.000000</td>\n",
       "      <td>7.000000</td>\n",
       "      <td>12.000000</td>\n",
       "      <td>1977.000000</td>\n",
       "      <td>0.072158</td>\n",
       "      <td>25.000000</td>\n",
       "      <td>5285.000000</td>\n",
       "      <td>2.000000</td>\n",
       "      <td>900.000000</td>\n",
       "      <td>1.00000</td>\n",
       "      <td>3.000000</td>\n",
       "    </tr>\n",
       "    <tr>\n",
       "      <th>75%</th>\n",
       "      <td>12598.250000</td>\n",
       "      <td>77.000000</td>\n",
       "      <td>2.000000</td>\n",
       "      <td>66.285129</td>\n",
       "      <td>45.174091</td>\n",
       "      <td>9.000000</td>\n",
       "      <td>12.000000</td>\n",
       "      <td>17.000000</td>\n",
       "      <td>2000.000000</td>\n",
       "      <td>0.195781</td>\n",
       "      <td>36.000000</td>\n",
       "      <td>7287.000000</td>\n",
       "      <td>5.000000</td>\n",
       "      <td>1548.000000</td>\n",
       "      <td>2.00000</td>\n",
       "      <td>6.000000</td>\n",
       "    </tr>\n",
       "    <tr>\n",
       "      <th>max</th>\n",
       "      <td>16795.000000</td>\n",
       "      <td>212.000000</td>\n",
       "      <td>17.000000</td>\n",
       "      <td>223.453689</td>\n",
       "      <td>303.071094</td>\n",
       "      <td>620.000000</td>\n",
       "      <td>78.000000</td>\n",
       "      <td>99.000000</td>\n",
       "      <td>2020.000000</td>\n",
       "      <td>0.521867</td>\n",
       "      <td>74.000000</td>\n",
       "      <td>19083.000000</td>\n",
       "      <td>141.000000</td>\n",
       "      <td>4849.000000</td>\n",
       "      <td>6.00000</td>\n",
       "      <td>23.000000</td>\n",
       "    </tr>\n",
       "  </tbody>\n",
       "</table>\n",
       "</div>"
      ],
      "text/plain": [
       "                 Id   DistrictId        Rooms       Square   LifeSquare  \\\n",
       "count   5000.000000  5000.000000  5000.000000  5000.000000  3959.000000   \n",
       "mean    8412.595400    51.279200     1.910000    56.449500    36.158810   \n",
       "std     4832.674037    44.179466     0.838594    19.092787    17.825287   \n",
       "min        1.000000     0.000000     0.000000     1.378543     0.333490   \n",
       "25%     4221.750000    21.000000     1.000000    41.906231    23.092026   \n",
       "50%     8320.500000    37.000000     2.000000    52.921340    32.925087   \n",
       "75%    12598.250000    77.000000     2.000000    66.285129    45.174091   \n",
       "max    16795.000000   212.000000    17.000000   223.453689   303.071094   \n",
       "\n",
       "       KitchenSquare        Floor   HouseFloor    HouseYear    Ecology_1  \\\n",
       "count    5000.000000  5000.000000  5000.000000  5000.000000  5000.000000   \n",
       "mean        5.976800     8.632000    12.601000  1984.392600     0.119874   \n",
       "std         9.950018     5.483228     6.789213    18.573149     0.120070   \n",
       "min         0.000000     1.000000     0.000000  1908.000000     0.000000   \n",
       "25%         1.000000     4.000000     9.000000  1973.000000     0.019509   \n",
       "50%         6.000000     7.000000    12.000000  1977.000000     0.072158   \n",
       "75%         9.000000    12.000000    17.000000  2000.000000     0.195781   \n",
       "max       620.000000    78.000000    99.000000  2020.000000     0.521867   \n",
       "\n",
       "          Social_1      Social_2     Social_3  Healthcare_1  Helthcare_2  \\\n",
       "count  5000.000000   5000.000000  5000.000000   2623.000000   5000.00000   \n",
       "mean     24.933800   5406.900000     8.262600   1146.657263      1.31940   \n",
       "std      17.532202   4026.614773    23.863762   1044.744231      1.47994   \n",
       "min       0.000000    168.000000     0.000000      0.000000      0.00000   \n",
       "25%       6.000000   1564.000000     0.000000    325.000000      0.00000   \n",
       "50%      25.000000   5285.000000     2.000000    900.000000      1.00000   \n",
       "75%      36.000000   7287.000000     5.000000   1548.000000      2.00000   \n",
       "max      74.000000  19083.000000   141.000000   4849.000000      6.00000   \n",
       "\n",
       "           Shops_1  \n",
       "count  5000.000000  \n",
       "mean      4.242800  \n",
       "std       4.777365  \n",
       "min       0.000000  \n",
       "25%       1.000000  \n",
       "50%       3.000000  \n",
       "75%       6.000000  \n",
       "max      23.000000  "
      ]
     },
     "execution_count": 9,
     "metadata": {},
     "output_type": "execute_result"
    }
   ],
   "source": [
    "test_df.describe()"
   ]
  },
  {
   "cell_type": "code",
   "execution_count": 10,
   "id": "96e06de5",
   "metadata": {},
   "outputs": [
    {
     "data": {
      "text/plain": [
       "(5000, 19)"
      ]
     },
     "execution_count": 10,
     "metadata": {},
     "output_type": "execute_result"
    }
   ],
   "source": [
    "test_df.shape"
   ]
  },
  {
   "cell_type": "markdown",
   "id": "1d6ad9ed",
   "metadata": {},
   "source": [
    "Это означает, что в тестовом наборе данных (который используется для оценки качества модели) есть 5000 наблюдений и на один признак меньше, чем в тренировочном наборе. Важно убедиться, что набор данных для тестирования имеет аналогичные признаки (за исключением целевой переменной), чтобы модель могла корректно применяться к новым данным."
   ]
  },
  {
   "cell_type": "code",
   "execution_count": 11,
   "id": "5e90414a",
   "metadata": {},
   "outputs": [
    {
     "data": {
      "text/plain": [
       "19"
      ]
     },
     "execution_count": 11,
     "metadata": {},
     "output_type": "execute_result"
    }
   ],
   "source": [
    "train_df.shape[1] - 1"
   ]
  },
  {
   "cell_type": "markdown",
   "id": "0ebd6c05",
   "metadata": {},
   "source": [
    "train_df.shape[1] дает количество столбцов в тренировочном наборе данных, а train_df.shape[1] - 1 вычисляет количество признаков, исключая целевую переменную (которая обычно находится в последнем столбце)."
   ]
  },
  {
   "cell_type": "code",
   "execution_count": 12,
   "id": "4cf6d25d",
   "metadata": {},
   "outputs": [],
   "source": [
    "train_df['Id'] = train_df['Id'].astype(str)\n",
    "train_df['DistrictId'] = train_df['DistrictId'].astype(str)\n"
   ]
  },
  {
   "cell_type": "markdown",
   "id": "5505672a",
   "metadata": {},
   "source": [
    "Этот код выполняет приведение типов данных двух столбцов в датафрейме train_df"
   ]
  },
  {
   "cell_type": "code",
   "execution_count": 13,
   "id": "ff7328f1",
   "metadata": {},
   "outputs": [
    {
     "data": {
      "text/plain": [
       "Id                  0\n",
       "DistrictId          0\n",
       "Rooms               0\n",
       "Square              0\n",
       "LifeSquare       2113\n",
       "KitchenSquare       0\n",
       "Floor               0\n",
       "HouseFloor          0\n",
       "HouseYear           0\n",
       "Ecology_1           0\n",
       "Ecology_2           0\n",
       "Ecology_3           0\n",
       "Social_1            0\n",
       "Social_2            0\n",
       "Social_3            0\n",
       "Healthcare_1     4798\n",
       "Helthcare_2         0\n",
       "Shops_1             0\n",
       "Shops_2             0\n",
       "Price               0\n",
       "dtype: int64"
      ]
     },
     "execution_count": 13,
     "metadata": {},
     "output_type": "execute_result"
    }
   ],
   "source": [
    "train_df.isnull().sum()"
   ]
  },
  {
   "cell_type": "code",
   "execution_count": 14,
   "id": "ef200621",
   "metadata": {},
   "outputs": [],
   "source": [
    "test_df['Id'] = test_df['Id'].astype(str)\n",
    "test_df['DistrictId'] = test_df['DistrictId'].astype(str)"
   ]
  },
  {
   "cell_type": "code",
   "execution_count": 15,
   "id": "bececbeb",
   "metadata": {},
   "outputs": [
    {
     "data": {
      "text/plain": [
       "Id                  0\n",
       "DistrictId          0\n",
       "Rooms               0\n",
       "Square              0\n",
       "LifeSquare       1041\n",
       "KitchenSquare       0\n",
       "Floor               0\n",
       "HouseFloor          0\n",
       "HouseYear           0\n",
       "Ecology_1           0\n",
       "Ecology_2           0\n",
       "Ecology_3           0\n",
       "Social_1            0\n",
       "Social_2            0\n",
       "Social_3            0\n",
       "Healthcare_1     2377\n",
       "Helthcare_2         0\n",
       "Shops_1             0\n",
       "Shops_2             0\n",
       "dtype: int64"
      ]
     },
     "execution_count": 15,
     "metadata": {},
     "output_type": "execute_result"
    }
   ],
   "source": [
    "test_df.isnull().sum()"
   ]
  },
  {
   "cell_type": "markdown",
   "id": "8b86e440",
   "metadata": {},
   "source": [
    "* LifeSquare: 2113 пропущенных значений. Это означает, что в столбце LifeSquare у нас отсутствуют данные в 2113 строках.\n",
    "\n",
    "* Healthcare_1: 4798 пропущенных значений. В столбце Healthcare_1 отсутствуют данные в 4798 строках.\n",
    "\n",
    "Пропущенные значения могут повлиять на анализ данных и построение моделей. Обработка пропусков может включать их заполнение средними или медианами, удаление соответствующих строк или использование специальных методов для заполнения в зависимости от характера данных и контекста исследования."
   ]
  },
  {
   "cell_type": "code",
   "execution_count": 16,
   "id": "a48475ab",
   "metadata": {},
   "outputs": [
    {
     "data": {
      "image/png": "[encoded data removed]",
      "text/plain": [
       "<Figure size 1000x600 with 1 Axes>"
      ]
     },
     "metadata": {},
     "output_type": "display_data"
    }
   ],
   "source": [
    "plt.figure(figsize=(10, 6))\n",
    "sns.histplot(train_df['Price'], bins=30)\n",
    "plt.title('Распределение цен на недвижимость')\n",
    "plt.xlabel('Price')\n",
    "plt.ylabel('Count')\n",
    "plt.show()"
   ]
  },
  {
   "cell_type": "markdown",
   "id": "1d1e8588",
   "metadata": {},
   "source": [
    "Используя библиотеки matplotlib и seaborn, была построена гистограмма распределения цен на недвижимость из датафрейма train_df\n",
    "Гистограмма позволяет визуально оценить распределение цен на недвижимость в выборке train_df\n",
    "Распределение имеет длинный хвост в сторону увеличения цены на недвижимость, что имеет место быть.\n",
    "Будем считать, что распределение имеет нормальный вид."
   ]
  },
  {
   "cell_type": "code",
   "execution_count": 17,
   "id": "5cdd9968",
   "metadata": {},
   "outputs": [
    {
     "data": {
      "text/plain": [
       "array([[<AxesSubplot:title={'center':'Rooms'}>,\n",
       "        <AxesSubplot:title={'center':'Square'}>,\n",
       "        <AxesSubplot:title={'center':'LifeSquare'}>,\n",
       "        <AxesSubplot:title={'center':'KitchenSquare'}>],\n",
       "       [<AxesSubplot:title={'center':'Floor'}>,\n",
       "        <AxesSubplot:title={'center':'HouseFloor'}>,\n",
       "        <AxesSubplot:title={'center':'HouseYear'}>,\n",
       "        <AxesSubplot:title={'center':'Ecology_1'}>],\n",
       "       [<AxesSubplot:title={'center':'Social_1'}>,\n",
       "        <AxesSubplot:title={'center':'Social_2'}>,\n",
       "        <AxesSubplot:title={'center':'Social_3'}>,\n",
       "        <AxesSubplot:title={'center':'Healthcare_1'}>],\n",
       "       [<AxesSubplot:title={'center':'Helthcare_2'}>,\n",
       "        <AxesSubplot:title={'center':'Shops_1'}>,\n",
       "        <AxesSubplot:title={'center':'Price'}>, <AxesSubplot:>]],\n",
       "      dtype=object)"
      ]
     },
     "execution_count": 17,
     "metadata": {},
     "output_type": "execute_result"
    },
    {
     "data": {
      "image/png": "[encoded data removed]",
      "text/plain": [
       "<Figure size 1600x1600 with 16 Axes>"
      ]
     },
     "metadata": {},
     "output_type": "display_data"
    }
   ],
   "source": [
    "train_df.hist(figsize=(16, 16), bins=20, grid=False)"
   ]
  },
  {
   "cell_type": "markdown",
   "id": "e15a08b7",
   "metadata": {},
   "source": [
    "Это полезный способ быстро оценить распределение значений в числовых столбцах датафрейма train_df, что может помочь в понимании характеристик данных перед построением модели или применением дополнительных аналитических методов."
   ]
  },
  {
   "cell_type": "code",
   "execution_count": 18,
   "id": "8c1177bd",
   "metadata": {},
   "outputs": [
    {
     "data": {
      "text/plain": [
       "['Id', 'DistrictId', 'Ecology_2', 'Ecology_3', 'Shops_2']"
      ]
     },
     "execution_count": 18,
     "metadata": {},
     "output_type": "execute_result"
    }
   ],
   "source": [
    "train_df.select_dtypes(include='object').columns.tolist()"
   ]
  },
  {
   "cell_type": "markdown",
   "id": "fa3c845e",
   "metadata": {},
   "source": [
    "Такой подход полезен, когда нужно быстро выделить категориальные (строковые) признаки для дальнейшей обработки или анализа."
   ]
  },
  {
   "cell_type": "code",
   "execution_count": 19,
   "id": "1b176c63",
   "metadata": {},
   "outputs": [
    {
     "data": {
      "text/plain": [
       "27     851\n",
       "1      652\n",
       "23     565\n",
       "6      511\n",
       "9      294\n",
       "      ... \n",
       "207      1\n",
       "117      1\n",
       "174      1\n",
       "205      1\n",
       "209      1\n",
       "Name: DistrictId, Length: 205, dtype: int64"
      ]
     },
     "execution_count": 19,
     "metadata": {},
     "output_type": "execute_result"
    }
   ],
   "source": [
    "train_df['DistrictId'].value_counts()"
   ]
  },
  {
   "cell_type": "markdown",
   "id": "f1fe30a6",
   "metadata": {},
   "source": [
    "Таким образом, результат показывает, сколько раз каждый уникальный идентификатор района встречается в данных."
   ]
  },
  {
   "cell_type": "code",
   "execution_count": 20,
   "id": "7f2c6daf",
   "metadata": {},
   "outputs": [
    {
     "data": {
      "text/plain": [
       "B    9903\n",
       "A      97\n",
       "Name: Ecology_2, dtype: int64"
      ]
     },
     "execution_count": 20,
     "metadata": {},
     "output_type": "execute_result"
    }
   ],
   "source": [
    "train_df['Ecology_2'].value_counts()"
   ]
  },
  {
   "cell_type": "code",
   "execution_count": 21,
   "id": "6c1a3ba7",
   "metadata": {},
   "outputs": [
    {
     "data": {
      "text/plain": [
       "B    9725\n",
       "A     275\n",
       "Name: Ecology_3, dtype: int64"
      ]
     },
     "execution_count": 21,
     "metadata": {},
     "output_type": "execute_result"
    }
   ],
   "source": [
    "train_df['Ecology_3'].value_counts()"
   ]
  },
  {
   "cell_type": "code",
   "execution_count": 22,
   "id": "f1a7e663",
   "metadata": {},
   "outputs": [
    {
     "data": {
      "text/plain": [
       "B    9175\n",
       "A     825\n",
       "Name: Shops_2, dtype: int64"
      ]
     },
     "execution_count": 22,
     "metadata": {},
     "output_type": "execute_result"
    }
   ],
   "source": [
    "train_df['Shops_2'].value_counts()"
   ]
  },
  {
   "cell_type": "code",
   "execution_count": 23,
   "id": "e9003ff8",
   "metadata": {},
   "outputs": [
    {
     "data": {
      "text/plain": [
       "2.0     3880\n",
       "1.0     3705\n",
       "3.0     2235\n",
       "4.0      150\n",
       "5.0       18\n",
       "0.0        8\n",
       "10.0       2\n",
       "19.0       1\n",
       "6.0        1\n",
       "Name: Rooms, dtype: int64"
      ]
     },
     "execution_count": 23,
     "metadata": {},
     "output_type": "execute_result"
    }
   ],
   "source": [
    "train_df['Rooms'].value_counts()"
   ]
  },
  {
   "cell_type": "markdown",
   "id": "89b5aab7",
   "metadata": {},
   "source": [
    "Результаты выше показывают, сколько раз каждое уникальное значение встречается в указанном столбце."
   ]
  },
  {
   "cell_type": "markdown",
   "id": "5bc0500c",
   "metadata": {},
   "source": [
    "Для проверки данных на ошибки и аномалии необходимо провести более глубокий анализ каждого признака. Давайте рассмотрим каждый из них и выявим возможные проблемы.\n",
    "\n",
    "Проверка данных на ошибки\n",
    "1. Признак \"HouseYear\" (год постройки)\n",
    "Данные в этом признаке могут содержать ошибки, такие как значения, выходящие за рамки разумных временных периодов (например, годы в будущем)."
   ]
  },
  {
   "cell_type": "code",
   "execution_count": 24,
   "id": "a4e00db9",
   "metadata": {},
   "outputs": [
    {
     "data": {
      "text/plain": [
       "array([    1969,     1978,     1968,     1977,     1976,     2011,\n",
       "           1960,     2014,     1973,     1959,     1999,     1980,\n",
       "           1979,     1983,     2001,     2012,     2002,     1996,\n",
       "           1964,     2018,     1972,     1965,     1984,     1961,\n",
       "           1971,     1963,     2017,     1970,     1981,     2003,\n",
       "           2016,     1991,     1975,     2006,     2009,     1985,\n",
       "           1974,     1994,     2000,     1987,     1998,     2005,\n",
       "           1990,     1982,     1997,     2015,     2008,     2010,\n",
       "           2004,     2007,     1967,     1957,     1962,     1993,\n",
       "           1966,     1955,     1937,     1992,     1954,     1995,\n",
       "           2019,     1948,     1986,     2013,     1989,     1958,\n",
       "           1938,     1956,     1988,     2020,     1951,     1952,\n",
       "           1935,     1914,     1932,     1950,     1917,     1918,\n",
       "           1940, 20052011,     1942,     1939,     1934,     1931,\n",
       "           1919,     1912,     1953,     1936,     1947,     1929,\n",
       "           4968,     1930,     1933,     1941,     1916,     1910,\n",
       "           1928], dtype=int64)"
      ]
     },
     "execution_count": 24,
     "metadata": {},
     "output_type": "execute_result"
    }
   ],
   "source": [
    "train_df['HouseYear'].unique()"
   ]
  },
  {
   "cell_type": "markdown",
   "id": "ce44d1cc",
   "metadata": {},
   "source": [
    "Метод train_df['HouseYear'].unique() используется для получения списка всех уникальных значений в столбце \"HouseYear\". Это помогает нам оценить разнообразие значений, представленных в признаке, и обнаружить потенциальные аномалии, такие как:\n",
    "\n",
    "Неправдоподобно высокие или низкие года, выходящие за пределы разумных временных рамок.\n",
    "Ошибки ввода данных, например, опечатки или случайные значения.\n",
    "Анализ данных на такие ошибки важен для корректного построения моделей машинного обучения и получения надежных результатов."
   ]
  },
  {
   "cell_type": "code",
   "execution_count": 26,
   "id": "f48e9250",
   "metadata": {},
   "outputs": [
    {
     "data": {
      "text/html": [
       "<div>\n",
       "<style scoped>\n",
       "    .dataframe tbody tr th:only-of-type {\n",
       "        vertical-align: middle;\n",
       "    }\n",
       "\n",
       "    .dataframe tbody tr th {\n",
       "        vertical-align: top;\n",
       "    }\n",
       "\n",
       "    .dataframe thead th {\n",
       "        text-align: right;\n",
       "    }\n",
       "</style>\n",
       "<table border=\"1\" class=\"dataframe\">\n",
       "  <thead>\n",
       "    <tr style=\"text-align: right;\">\n",
       "      <th></th>\n",
       "      <th>Id</th>\n",
       "      <th>DistrictId</th>\n",
       "      <th>Rooms</th>\n",
       "      <th>Square</th>\n",
       "      <th>LifeSquare</th>\n",
       "      <th>KitchenSquare</th>\n",
       "      <th>Floor</th>\n",
       "      <th>HouseFloor</th>\n",
       "      <th>HouseYear</th>\n",
       "      <th>Ecology_1</th>\n",
       "      <th>...</th>\n",
       "      <th>Ecology_3</th>\n",
       "      <th>Social_1</th>\n",
       "      <th>Social_2</th>\n",
       "      <th>Social_3</th>\n",
       "      <th>Healthcare_1</th>\n",
       "      <th>Helthcare_2</th>\n",
       "      <th>Shops_1</th>\n",
       "      <th>Shops_2</th>\n",
       "      <th>Price</th>\n",
       "      <th>Rooms_outlier</th>\n",
       "    </tr>\n",
       "  </thead>\n",
       "  <tbody>\n",
       "    <tr>\n",
       "      <th>0</th>\n",
       "      <td>14038</td>\n",
       "      <td>35</td>\n",
       "      <td>2.0</td>\n",
       "      <td>47.981561</td>\n",
       "      <td>29.442751</td>\n",
       "      <td>6.0</td>\n",
       "      <td>7</td>\n",
       "      <td>9.0</td>\n",
       "      <td>1969</td>\n",
       "      <td>0.089040</td>\n",
       "      <td>...</td>\n",
       "      <td>B</td>\n",
       "      <td>33</td>\n",
       "      <td>7976</td>\n",
       "      <td>5</td>\n",
       "      <td>NaN</td>\n",
       "      <td>0</td>\n",
       "      <td>11</td>\n",
       "      <td>B</td>\n",
       "      <td>184966.930730</td>\n",
       "      <td>0</td>\n",
       "    </tr>\n",
       "    <tr>\n",
       "      <th>1</th>\n",
       "      <td>15053</td>\n",
       "      <td>41</td>\n",
       "      <td>3.0</td>\n",
       "      <td>65.683640</td>\n",
       "      <td>40.049543</td>\n",
       "      <td>8.0</td>\n",
       "      <td>7</td>\n",
       "      <td>9.0</td>\n",
       "      <td>1978</td>\n",
       "      <td>0.000070</td>\n",
       "      <td>...</td>\n",
       "      <td>B</td>\n",
       "      <td>46</td>\n",
       "      <td>10309</td>\n",
       "      <td>1</td>\n",
       "      <td>240.0</td>\n",
       "      <td>1</td>\n",
       "      <td>16</td>\n",
       "      <td>B</td>\n",
       "      <td>300009.450063</td>\n",
       "      <td>0</td>\n",
       "    </tr>\n",
       "    <tr>\n",
       "      <th>2</th>\n",
       "      <td>4765</td>\n",
       "      <td>53</td>\n",
       "      <td>2.0</td>\n",
       "      <td>44.947953</td>\n",
       "      <td>29.197612</td>\n",
       "      <td>0.0</td>\n",
       "      <td>8</td>\n",
       "      <td>12.0</td>\n",
       "      <td>1968</td>\n",
       "      <td>0.049637</td>\n",
       "      <td>...</td>\n",
       "      <td>B</td>\n",
       "      <td>34</td>\n",
       "      <td>7759</td>\n",
       "      <td>0</td>\n",
       "      <td>229.0</td>\n",
       "      <td>1</td>\n",
       "      <td>3</td>\n",
       "      <td>B</td>\n",
       "      <td>220925.908524</td>\n",
       "      <td>0</td>\n",
       "    </tr>\n",
       "    <tr>\n",
       "      <th>3</th>\n",
       "      <td>5809</td>\n",
       "      <td>58</td>\n",
       "      <td>2.0</td>\n",
       "      <td>53.352981</td>\n",
       "      <td>52.731512</td>\n",
       "      <td>9.0</td>\n",
       "      <td>8</td>\n",
       "      <td>17.0</td>\n",
       "      <td>1977</td>\n",
       "      <td>0.437885</td>\n",
       "      <td>...</td>\n",
       "      <td>B</td>\n",
       "      <td>23</td>\n",
       "      <td>5735</td>\n",
       "      <td>3</td>\n",
       "      <td>1084.0</td>\n",
       "      <td>0</td>\n",
       "      <td>5</td>\n",
       "      <td>B</td>\n",
       "      <td>175616.227217</td>\n",
       "      <td>0</td>\n",
       "    </tr>\n",
       "    <tr>\n",
       "      <th>4</th>\n",
       "      <td>10783</td>\n",
       "      <td>99</td>\n",
       "      <td>1.0</td>\n",
       "      <td>39.649192</td>\n",
       "      <td>23.776169</td>\n",
       "      <td>7.0</td>\n",
       "      <td>11</td>\n",
       "      <td>12.0</td>\n",
       "      <td>1976</td>\n",
       "      <td>0.012339</td>\n",
       "      <td>...</td>\n",
       "      <td>B</td>\n",
       "      <td>35</td>\n",
       "      <td>5776</td>\n",
       "      <td>1</td>\n",
       "      <td>2078.0</td>\n",
       "      <td>2</td>\n",
       "      <td>4</td>\n",
       "      <td>B</td>\n",
       "      <td>150226.531644</td>\n",
       "      <td>0</td>\n",
       "    </tr>\n",
       "  </tbody>\n",
       "</table>\n",
       "<p>5 rows × 21 columns</p>\n",
       "</div>"
      ],
      "text/plain": [
       "      Id DistrictId  Rooms     Square  LifeSquare  KitchenSquare  Floor  \\\n",
       "0  14038         35    2.0  47.981561   29.442751            6.0      7   \n",
       "1  15053         41    3.0  65.683640   40.049543            8.0      7   \n",
       "2   4765         53    2.0  44.947953   29.197612            0.0      8   \n",
       "3   5809         58    2.0  53.352981   52.731512            9.0      8   \n",
       "4  10783         99    1.0  39.649192   23.776169            7.0     11   \n",
       "\n",
       "   HouseFloor  HouseYear  Ecology_1  ... Ecology_3 Social_1  Social_2  \\\n",
       "0         9.0       1969   0.089040  ...         B       33      7976   \n",
       "1         9.0       1978   0.000070  ...         B       46     10309   \n",
       "2        12.0       1968   0.049637  ...         B       34      7759   \n",
       "3        17.0       1977   0.437885  ...         B       23      5735   \n",
       "4        12.0       1976   0.012339  ...         B       35      5776   \n",
       "\n",
       "   Social_3  Healthcare_1  Helthcare_2  Shops_1  Shops_2          Price  \\\n",
       "0         5           NaN            0       11        B  184966.930730   \n",
       "1         1         240.0            1       16        B  300009.450063   \n",
       "2         0         229.0            1        3        B  220925.908524   \n",
       "3         3        1084.0            0        5        B  175616.227217   \n",
       "4         1        2078.0            2        4        B  150226.531644   \n",
       "\n",
       "   Rooms_outlier  \n",
       "0              0  \n",
       "1              0  \n",
       "2              0  \n",
       "3              0  \n",
       "4              0  \n",
       "\n",
       "[5 rows x 21 columns]"
      ]
     },
     "execution_count": 26,
     "metadata": {},
     "output_type": "execute_result"
    }
   ],
   "source": [
    "train_df['Rooms_outlier'] = 0\n",
    "train_df.loc[(train_df['Rooms'] == 0) | (train_df['Rooms'] >= 6), 'Rooms_outlier'] = 1\n",
    "train_df.head()"
   ]
  },
  {
   "cell_type": "markdown",
   "id": "1971e983",
   "metadata": {},
   "source": [
    "Мы создали новый признак Rooms_outlier в датасете train_df, который помогает идентифицировать аномалии в данных столбца Rooms. В этом случае:\n",
    "\n",
    "Значение Rooms_outlier установлено на 0 по умолчанию для всех строк.\n",
    "\n",
    "С помощью метода loc мы устанавливаем значение Rooms_outlier в 1 для строк, где количество комнат (Rooms) равно 0 или больше или равно 6.\n",
    "\n",
    "Это позволяет нам отметить строки, в которых количество комнат может быть потенциально ошибочным или аномальным, например, если указано 0 комнат или слишком много комнат для типичного жилого помещения."
   ]
  },
  {
   "cell_type": "code",
   "execution_count": 27,
   "id": "81022fa5",
   "metadata": {},
   "outputs": [
    {
     "data": {
      "text/plain": [
       "0    9988\n",
       "1      12\n",
       "Name: Rooms_outlier, dtype: int64"
      ]
     },
     "execution_count": 27,
     "metadata": {},
     "output_type": "execute_result"
    }
   ],
   "source": [
    "train_df['Rooms_outlier'].value_counts()"
   ]
  },
  {
   "cell_type": "markdown",
   "id": "e698d5ef",
   "metadata": {},
   "source": [
    "Результаты показывают, что в датасете train_df большинство строк (9988 из 10000) не имеют аномалий в колонке Rooms_outlier, что соответствует ожиданиям. Однако 12 строк содержат аномальные значения количества комнат (Rooms), такие как 0 комнат или 6 и более комнат."
   ]
  },
  {
   "cell_type": "code",
   "execution_count": 28,
   "id": "32646f64",
   "metadata": {},
   "outputs": [],
   "source": [
    "train_df.loc[train_df['Rooms'] == 0, 'Rooms'] = 1\n",
    "train_df.loc[train_df['Rooms'] >= 6, 'Rooms'] = train_df['Rooms'].median()"
   ]
  },
  {
   "cell_type": "markdown",
   "id": "e22ad3eb",
   "metadata": {},
   "source": [
    "Этот код выполняет коррекцию значений в колонке Rooms в датасете train_df. В частности:\n",
    "\n",
    "Строкам, где количество комнат (Rooms) равно 0, присваивается значение 1.\n",
    "\n",
    "Строкам, где количество комнат (Rooms) больше или равно 6, присваивается медианное значение количества комнат во всем датасете.\n",
    "\n",
    "Таким образом, мы исправляем аномальные и ошибочные значения в колонке Rooms, чтобы они отражали реалистичные данные."
   ]
  },
  {
   "cell_type": "code",
   "execution_count": 29,
   "id": "a5845b67",
   "metadata": {},
   "outputs": [
    {
     "data": {
      "text/plain": [
       "2.0    3884\n",
       "1.0    3713\n",
       "3.0    2235\n",
       "4.0     150\n",
       "5.0      18\n",
       "Name: Rooms, dtype: int64"
      ]
     },
     "execution_count": 29,
     "metadata": {},
     "output_type": "execute_result"
    }
   ],
   "source": [
    "train_df['Rooms'].value_counts()"
   ]
  },
  {
   "cell_type": "markdown",
   "id": "c3e19566",
   "metadata": {},
   "source": [
    "\n",
    "После выполнения коррекции значений в колонке Rooms в датасете train_df, распределение количества комнат выглядит следующим образом:\n",
    "\n",
    "* 1 комната: 3713 записей\n",
    "* 2 комнаты: 3884 записей\n",
    "* 3 комнаты: 2235 записей\n",
    "* 4 комнаты: 150 записей\n",
    "* 5 комнат: 18 записей\n",
    "\n",
    "Теперь в данных больше нет нулевых значений и значений, равных или превышающих 6 комнат."
   ]
  },
  {
   "cell_type": "code",
   "execution_count": 30,
   "id": "dfa4a4e7",
   "metadata": {},
   "outputs": [
    {
     "data": {
      "text/plain": [
       "1.0       2460\n",
       "8.0       1306\n",
       "5.0       1169\n",
       "10.0      1075\n",
       "6.0       1038\n",
       "9.0        843\n",
       "0.0        697\n",
       "7.0        609\n",
       "12.0       249\n",
       "11.0       233\n",
       "13.0        67\n",
       "14.0        51\n",
       "4.0         39\n",
       "15.0        31\n",
       "3.0         22\n",
       "16.0        16\n",
       "20.0        14\n",
       "17.0        12\n",
       "19.0        11\n",
       "18.0         6\n",
       "2.0          4\n",
       "22.0         3\n",
       "32.0         2\n",
       "41.0         2\n",
       "51.0         2\n",
       "30.0         2\n",
       "112.0        2\n",
       "37.0         2\n",
       "43.0         2\n",
       "25.0         2\n",
       "58.0         2\n",
       "84.0         1\n",
       "75.0         1\n",
       "21.0         1\n",
       "54.0         1\n",
       "62.0         1\n",
       "40.0         1\n",
       "29.0         1\n",
       "1970.0       1\n",
       "27.0         1\n",
       "39.0         1\n",
       "35.0         1\n",
       "23.0         1\n",
       "73.0         1\n",
       "31.0         1\n",
       "60.0         1\n",
       "63.0         1\n",
       "42.0         1\n",
       "36.0         1\n",
       "96.0         1\n",
       "26.0         1\n",
       "53.0         1\n",
       "78.0         1\n",
       "66.0         1\n",
       "2014.0       1\n",
       "48.0         1\n",
       "72.0         1\n",
       "123.0        1\n",
       "Name: KitchenSquare, dtype: int64"
      ]
     },
     "execution_count": 30,
     "metadata": {},
     "output_type": "execute_result"
    }
   ],
   "source": [
    "train_df['KitchenSquare'].value_counts()"
   ]
  },
  {
   "cell_type": "markdown",
   "id": "a3b4f9af",
   "metadata": {},
   "source": [
    "Колонка KitchenSquare содержит разнообразные значения площади кухни. На основе предоставленных данных видно, что самое часто встречающееся значение площади кухни - 1.0 кв.м., что выглядит немного странно, однако, также есть аномальные значения, такие как 1970.0 и 2014.0 кв.м., которые, вероятно, являются ошибками в данных.\n",
    "\n",
    "Для дальнейшей обработки необходимо провести анализ и, возможно, исправление этих аномальных значений."
   ]
  },
  {
   "cell_type": "code",
   "execution_count": 31,
   "id": "d76dbbf3",
   "metadata": {},
   "outputs": [
    {
     "data": {
      "text/plain": [
       "<AxesSubplot:xlabel='KitchenSquare'>"
      ]
     },
     "execution_count": 31,
     "metadata": {},
     "output_type": "execute_result"
    },
    {
     "data": {
      "image/png": "[encoded data removed]",
      "text/plain": [
       "<Figure size 640x480 with 1 Axes>"
      ]
     },
     "metadata": {},
     "output_type": "display_data"
    }
   ],
   "source": [
    "sns.boxplot(data=train_df, x='KitchenSquare')"
   ]
  },
  {
   "cell_type": "code",
   "execution_count": 32,
   "id": "0f463c91",
   "metadata": {},
   "outputs": [
    {
     "data": {
      "text/plain": [
       "count    10000.000000\n",
       "mean         6.273300\n",
       "std         28.560917\n",
       "min          0.000000\n",
       "25%          1.000000\n",
       "50%          6.000000\n",
       "75%          9.000000\n",
       "max       2014.000000\n",
       "Name: KitchenSquare, dtype: float64"
      ]
     },
     "execution_count": 32,
     "metadata": {},
     "output_type": "execute_result"
    }
   ],
   "source": [
    "train_df['KitchenSquare'].describe()"
   ]
  },
  {
   "cell_type": "markdown",
   "id": "6bc215c5",
   "metadata": {},
   "source": [
    "Разумно предположить, что максимальное значение площади кухни равное 2014 квадратных метров и минимальноезначение равное 0 является ошибочным, так как это значительно выше, чем обычно бывает в типичных жилых квартирах. Это может быть результатом ошибки в данных или неправильного ввода.\n",
    "\n",
    "Если это значение действительно аномально и является ошибкой в данных, то его стоит исправить. Можно предположить, что такая аномалия может быть связана с опечаткой или ошибкой ввода, и можно заменить его на более разумное значение, например, медианное значение или значение, которое находится в пределах разумного диапазона.\n",
    "\n",
    "Если нет возможности уточнить истинное значение, то часто используются методы для замены аномалий, такие как замена на медианное значение, среднее значение или среднее значение плюс стандартное отклонение."
   ]
  },
  {
   "cell_type": "code",
   "execution_count": 136,
   "id": "955e499b",
   "metadata": {},
   "outputs": [
    {
     "data": {
      "text/plain": [
       "(13.0, 0.0)"
      ]
     },
     "execution_count": 136,
     "metadata": {},
     "output_type": "execute_result"
    }
   ],
   "source": [
    "train_df['KitchenSquare'].quantile(.975), train_df['KitchenSquare'].quantile(.025)"
   ]
  },
  {
   "cell_type": "markdown",
   "id": "9bb30efc",
   "metadata": {},
   "source": [
    "Эти квантили (0.025 и 0.975) позволяют оценить \"усы\" ящика с усами на графике boxplot, который показывает распределение площадей кухонь в данных. Значение квантили 0.025 равно 0.0, что говорит о том, что 2.5% наблюдений имеют нулевое значение площади кухни или менее. Верхний квартиль (0.975) равен 13.0, что означает, что 97.5% данных имеют площадь кухни не более 13.0 квадратных метров.\n",
    "\n",
    "Эта информация полезна для определения аномальных значений. Например, значение 2014.0, которое мы обнаружили ранее, гораздо выше верхнего квартиля и, следовательно, может быть считаться выбросом или ошибкой в данных."
   ]
  },
  {
   "cell_type": "code",
   "execution_count": 34,
   "id": "6b4ce4d5",
   "metadata": {},
   "outputs": [],
   "source": [
    "condition = (train_df['KitchenSquare'].isna()) | (train_df['KitchenSquare'] > train_df['KitchenSquare'].quantile(.975))\n",
    "train_df.loc[condition, 'KitchenSquare'] = train_df['KitchenSquare'].median()\n",
    "train_df.loc[train_df['KitchenSquare'] < 4, 'KitchenSquare'] = 4"
   ]
  },
  {
   "cell_type": "markdown",
   "id": "c2a00a65",
   "metadata": {},
   "source": [
    "1. Создается условие condition, которое находит строки, где значение KitchenSquare отсутствует (NaN) или больше 97.5-го перцентиля (train_df['KitchenSquare'].quantile(.975)).\n",
    "2. Для строк, удовлетворяющих условию condition, значение KitchenSquare заменяется на медианное значение (train_df['KitchenSquare'].median()). Это позволяет устранить выбросы и аномально большие значения, которые могут исказить данные.\n",
    "3. Затем проводится дополнительная проверка: если KitchenSquare меньше 4 квадратных метров, значение также заменяется на 4. Это может быть необходимо для исправления потенциальных ошибок в данных или исключения аномально малых значений.\n",
    "Такие манипуляции помогают сделать данные более точными и пригодными для анализа и моделирования."
   ]
  },
  {
   "cell_type": "code",
   "execution_count": 35,
   "id": "3a6700bc",
   "metadata": {},
   "outputs": [
    {
     "data": {
      "text/plain": [
       "4.0     3222\n",
       "8.0     1306\n",
       "6.0     1227\n",
       "5.0     1169\n",
       "10.0    1075\n",
       "9.0      843\n",
       "7.0      609\n",
       "12.0     249\n",
       "11.0     233\n",
       "13.0      67\n",
       "Name: KitchenSquare, dtype: int64"
      ]
     },
     "execution_count": 35,
     "metadata": {},
     "output_type": "execute_result"
    }
   ],
   "source": [
    "train_df['KitchenSquare'].value_counts()"
   ]
  },
  {
   "cell_type": "markdown",
   "id": "efaacf87",
   "metadata": {},
   "source": [
    "Мы успешно обработали данные в столбце KitchenSquare. Теперь в нем нет аномально больших значений или пропусков, и данные готовы для дальнейшего анализа или обучения модели."
   ]
  },
  {
   "cell_type": "code",
   "execution_count": 36,
   "id": "48765116",
   "metadata": {},
   "outputs": [
    {
     "data": {
      "text/plain": [
       "array([  0.,   1.,   2.,   3.,   4.,   5.,   6.,   7.,   8.,   9.,  10.,\n",
       "        11.,  12.,  13.,  14.,  15.,  16.,  17.,  18.,  19.,  20.,  21.,\n",
       "        22.,  23.,  24.,  25.,  26.,  27.,  28.,  29.,  30.,  31.,  32.,\n",
       "        36.,  37.,  38.,  39.,  40.,  44.,  45.,  47.,  48.,  99., 117.])"
      ]
     },
     "execution_count": 36,
     "metadata": {},
     "output_type": "execute_result"
    }
   ],
   "source": [
    "train_df['HouseFloor'].sort_values().unique()"
   ]
  },
  {
   "cell_type": "markdown",
   "id": "7f2e33da",
   "metadata": {},
   "source": [
    "Столбец HouseFloor содержит значения, которые представляют собой количество этажей в доме."
   ]
  },
  {
   "cell_type": "code",
   "execution_count": 37,
   "id": "825c0540",
   "metadata": {},
   "outputs": [
    {
     "data": {
      "text/plain": [
       "array([ 1,  2,  3,  4,  5,  6,  7,  8,  9, 10, 11, 12, 13, 14, 15, 16, 17,\n",
       "       18, 19, 20, 21, 22, 23, 24, 25, 26, 27, 28, 31, 32, 33, 37, 42],\n",
       "      dtype=int64)"
      ]
     },
     "execution_count": 37,
     "metadata": {},
     "output_type": "execute_result"
    }
   ],
   "source": [
    "train_df['Floor'].sort_values().unique()"
   ]
  },
  {
   "cell_type": "markdown",
   "id": "f1ecbeb9",
   "metadata": {},
   "source": [
    "Столбец Floor содержит значения, представляющие номер этажа квартиры в здании."
   ]
  },
  {
   "cell_type": "code",
   "execution_count": 38,
   "id": "d81ed907",
   "metadata": {},
   "outputs": [
    {
     "data": {
      "text/plain": [
       "1825"
      ]
     },
     "execution_count": 38,
     "metadata": {},
     "output_type": "execute_result"
    }
   ],
   "source": [
    "(train_df['Floor'] > train_df['HouseFloor']).sum()"
   ]
  },
  {
   "cell_type": "markdown",
   "id": "e258560f",
   "metadata": {},
   "source": [
    "\n",
    "У нас есть 1825 случаев, где номер этажа квартиры (Floor) больше, чем общее количество этажей в здании (HouseFloor)."
   ]
  },
  {
   "cell_type": "code",
   "execution_count": 39,
   "id": "9d467b8d",
   "metadata": {},
   "outputs": [],
   "source": [
    "train_df['HouseFloor_outlier'] = 0\n",
    "train_df.loc[train_df['HouseFloor'] == 0, 'HouseFloor_outlier'] = 1\n",
    "train_df.loc[train_df['Floor'] > train_df['HouseFloor'], 'HouseFloor_outlier'] = 1"
   ]
  },
  {
   "cell_type": "markdown",
   "id": "a6c3164c",
   "metadata": {},
   "source": [
    "Этот подход помогает выявить аномалии в данных, связанные с нулевым значением HouseFloor или ситуациями, когда этаж квартиры выше, чем этажность здания, что может потребовать корректировки или дополнительного анализа в дальнейшем."
   ]
  },
  {
   "cell_type": "code",
   "execution_count": 40,
   "id": "ad5008a7",
   "metadata": {},
   "outputs": [],
   "source": [
    "train_df.loc[train_df['HouseFloor'] == 0, 'HouseFloor'] = train_df['HouseFloor'].median()"
   ]
  },
  {
   "cell_type": "markdown",
   "id": "671dc639",
   "metadata": {},
   "source": [
    "Этот код заменяет все нулевые значения в столбце HouseFloor на медианное значение этого столбца."
   ]
  },
  {
   "cell_type": "code",
   "execution_count": 41,
   "id": "39786d46",
   "metadata": {},
   "outputs": [
    {
     "data": {
      "text/plain": [
       "Int64Index([   7,   14,   16,   21,   26,   35,   39,   44,   51,   67,\n",
       "            ...\n",
       "            9959, 9962, 9971, 9973, 9975, 9984, 9985, 9989, 9991, 9995],\n",
       "           dtype='int64', length=1610)"
      ]
     },
     "execution_count": 41,
     "metadata": {},
     "output_type": "execute_result"
    }
   ],
   "source": [
    "floor_outliers = train_df.loc[train_df['Floor'] > train_df['HouseFloor']].index\n",
    "floor_outliers"
   ]
  },
  {
   "cell_type": "markdown",
   "id": "93ab1a2c",
   "metadata": {},
   "source": [
    "Этот код создает индексный объект floor_outliers, который содержит индексы строк в датафрейме train_df, где значение столбца Floor больше значения столбца HouseFloor. Эти строки указывают на случаи, когда этаж квартиры больше этажности дома"
   ]
  },
  {
   "cell_type": "code",
   "execution_count": 42,
   "id": "b32f7683",
   "metadata": {},
   "outputs": [],
   "source": [
    "train_df.loc[floor_outliers, 'Floor'] = train_df.loc[floor_outliers, 'HouseFloor'].apply(lambda x: random.randint(1, x))"
   ]
  },
  {
   "cell_type": "markdown",
   "id": "515855b4",
   "metadata": {},
   "source": [
    "Этот код заменяет значения столбца Floor в строках, где этаж квартиры превышает этажность дома (floor_outliers), случайными значениями, которые не превышают значение этажности дома."
   ]
  },
  {
   "cell_type": "code",
   "execution_count": 43,
   "id": "0ebe1105",
   "metadata": {},
   "outputs": [
    {
     "data": {
      "text/plain": [
       "0"
      ]
     },
     "execution_count": 43,
     "metadata": {},
     "output_type": "execute_result"
    }
   ],
   "source": [
    "(train_df['Floor'] > train_df['HouseFloor']).sum()"
   ]
  },
  {
   "cell_type": "markdown",
   "id": "115d8d51",
   "metadata": {},
   "source": [
    "После выполнения кода (train_df['Floor'] > train_df['HouseFloor']).sum(), результат равен 0. Это означает, что после замены значений этажей (Floor) в строках, где этаж квартиры превышал этажность дома, больше нет случаев, когда этаж квартиры выше этажности дома."
   ]
  },
  {
   "cell_type": "code",
   "execution_count": 44,
   "id": "442b46a3",
   "metadata": {},
   "outputs": [
    {
     "data": {
      "text/plain": [
       "1497    20052011\n",
       "4189        4968\n",
       "5701        2020\n",
       "2493        2020\n",
       "1499        2020\n",
       "          ...   \n",
       "7611        1916\n",
       "910         1914\n",
       "2656        1912\n",
       "5111        1912\n",
       "9317        1910\n",
       "Name: HouseYear, Length: 10000, dtype: int64"
      ]
     },
     "execution_count": 44,
     "metadata": {},
     "output_type": "execute_result"
    }
   ],
   "source": [
    "train_df['HouseYear'].sort_values(ascending=False)"
   ]
  },
  {
   "cell_type": "markdown",
   "id": "c83040e2",
   "metadata": {},
   "source": [
    "\n",
    "В столбце HouseYear наблюдаются несколько потенциальных ошибок или аномалий, например:\n",
    "\n",
    "Значение 20052011 выглядит как опечатка или ошибка при вводе данных. Возможно, имелось в виду 2011.\n",
    "Значение 4968 явно ошибочно, так как оно не соответствует реалистичному году постройки.\n",
    "\n",
    "Для исправления этих ошибок или аномалий можно выполнить следующие шаги:\n",
    "\n",
    "* Заменить значение 20052011 на 2011.\n",
    "* Предположить, что значение 4968 должно быть 1968 (или другое реалистичное значение, если это год постройки)."
   ]
  },
  {
   "cell_type": "code",
   "execution_count": 45,
   "id": "0e12467a",
   "metadata": {},
   "outputs": [],
   "source": [
    "train_df['HouseYear'] = train_df['HouseYear'].replace(20052011, 2011)\n",
    "train_df['HouseYear'] = train_df['HouseYear'].replace(4968, 1968)"
   ]
  },
  {
   "cell_type": "code",
   "execution_count": 46,
   "id": "7128699c",
   "metadata": {},
   "outputs": [
    {
     "data": {
      "text/plain": [
       "3357    2020\n",
       "3485    2020\n",
       "8253    2020\n",
       "790     2020\n",
       "3859    2020\n",
       "        ... \n",
       "7611    1916\n",
       "910     1914\n",
       "2656    1912\n",
       "5111    1912\n",
       "9317    1910\n",
       "Name: HouseYear, Length: 10000, dtype: int64"
      ]
     },
     "execution_count": 46,
     "metadata": {},
     "output_type": "execute_result"
    }
   ],
   "source": [
    "train_df['HouseYear'].sort_values(ascending=False)"
   ]
  },
  {
   "cell_type": "markdown",
   "id": "d7f93655",
   "metadata": {},
   "source": [
    "Отлично, мы исправили аномалии используя метод replace."
   ]
  },
  {
   "cell_type": "code",
   "execution_count": 47,
   "id": "14a80329",
   "metadata": {},
   "outputs": [
    {
     "data": {
      "text/plain": [
       "Id                       0\n",
       "DistrictId               0\n",
       "Rooms                    0\n",
       "Square                   0\n",
       "LifeSquare            2113\n",
       "KitchenSquare            0\n",
       "Floor                    0\n",
       "HouseFloor               0\n",
       "HouseYear                0\n",
       "Ecology_1                0\n",
       "Ecology_2                0\n",
       "Ecology_3                0\n",
       "Social_1                 0\n",
       "Social_2                 0\n",
       "Social_3                 0\n",
       "Healthcare_1          4798\n",
       "Helthcare_2              0\n",
       "Shops_1                  0\n",
       "Shops_2                  0\n",
       "Price                    0\n",
       "Rooms_outlier            0\n",
       "HouseFloor_outlier       0\n",
       "dtype: int64"
      ]
     },
     "execution_count": 47,
     "metadata": {},
     "output_type": "execute_result"
    }
   ],
   "source": [
    "train_df.isna().sum()"
   ]
  },
  {
   "cell_type": "markdown",
   "id": "b13b9e60",
   "metadata": {},
   "source": [
    "Пропущенные значения имеются в признаке LifeSquare количество 2113 и Healthcare_1 количество 4798"
   ]
  },
  {
   "cell_type": "code",
   "execution_count": 48,
   "id": "6ec90d9e",
   "metadata": {},
   "outputs": [
    {
     "data": {
      "text/html": [
       "<div>\n",
       "<style scoped>\n",
       "    .dataframe tbody tr th:only-of-type {\n",
       "        vertical-align: middle;\n",
       "    }\n",
       "\n",
       "    .dataframe tbody tr th {\n",
       "        vertical-align: top;\n",
       "    }\n",
       "\n",
       "    .dataframe thead th {\n",
       "        text-align: right;\n",
       "    }\n",
       "</style>\n",
       "<table border=\"1\" class=\"dataframe\">\n",
       "  <thead>\n",
       "    <tr style=\"text-align: right;\">\n",
       "      <th></th>\n",
       "      <th>Square</th>\n",
       "      <th>LifeSquare</th>\n",
       "      <th>KitchenSquare</th>\n",
       "    </tr>\n",
       "  </thead>\n",
       "  <tbody>\n",
       "    <tr>\n",
       "      <th>0</th>\n",
       "      <td>47.981561</td>\n",
       "      <td>29.442751</td>\n",
       "      <td>6.0</td>\n",
       "    </tr>\n",
       "    <tr>\n",
       "      <th>1</th>\n",
       "      <td>65.683640</td>\n",
       "      <td>40.049543</td>\n",
       "      <td>8.0</td>\n",
       "    </tr>\n",
       "    <tr>\n",
       "      <th>2</th>\n",
       "      <td>44.947953</td>\n",
       "      <td>29.197612</td>\n",
       "      <td>4.0</td>\n",
       "    </tr>\n",
       "    <tr>\n",
       "      <th>3</th>\n",
       "      <td>53.352981</td>\n",
       "      <td>52.731512</td>\n",
       "      <td>9.0</td>\n",
       "    </tr>\n",
       "    <tr>\n",
       "      <th>4</th>\n",
       "      <td>39.649192</td>\n",
       "      <td>23.776169</td>\n",
       "      <td>7.0</td>\n",
       "    </tr>\n",
       "    <tr>\n",
       "      <th>5</th>\n",
       "      <td>80.384479</td>\n",
       "      <td>46.683720</td>\n",
       "      <td>12.0</td>\n",
       "    </tr>\n",
       "    <tr>\n",
       "      <th>6</th>\n",
       "      <td>62.254114</td>\n",
       "      <td>37.160377</td>\n",
       "      <td>7.0</td>\n",
       "    </tr>\n",
       "    <tr>\n",
       "      <th>7</th>\n",
       "      <td>80.312926</td>\n",
       "      <td>NaN</td>\n",
       "      <td>4.0</td>\n",
       "    </tr>\n",
       "    <tr>\n",
       "      <th>8</th>\n",
       "      <td>64.511437</td>\n",
       "      <td>NaN</td>\n",
       "      <td>4.0</td>\n",
       "    </tr>\n",
       "    <tr>\n",
       "      <th>9</th>\n",
       "      <td>46.461409</td>\n",
       "      <td>18.915552</td>\n",
       "      <td>8.0</td>\n",
       "    </tr>\n",
       "  </tbody>\n",
       "</table>\n",
       "</div>"
      ],
      "text/plain": [
       "      Square  LifeSquare  KitchenSquare\n",
       "0  47.981561   29.442751            6.0\n",
       "1  65.683640   40.049543            8.0\n",
       "2  44.947953   29.197612            4.0\n",
       "3  53.352981   52.731512            9.0\n",
       "4  39.649192   23.776169            7.0\n",
       "5  80.384479   46.683720           12.0\n",
       "6  62.254114   37.160377            7.0\n",
       "7  80.312926         NaN            4.0\n",
       "8  64.511437         NaN            4.0\n",
       "9  46.461409   18.915552            8.0"
      ]
     },
     "execution_count": 48,
     "metadata": {},
     "output_type": "execute_result"
    }
   ],
   "source": [
    "train_df[['Square', 'LifeSquare', 'KitchenSquare']].head(10)"
   ]
  },
  {
   "cell_type": "markdown",
   "id": "df0fd4cf",
   "metadata": {},
   "source": [
    "Анализ этих данных может включать обработку пропущенных значений в LifeSquare и проверку разумности значений в KitchenSquare, например, удаление выбросов или замена значений на медиану или среднее в зависимости от требований задачи."
   ]
  },
  {
   "cell_type": "code",
   "execution_count": 49,
   "id": "85ea6dd5",
   "metadata": {},
   "outputs": [],
   "source": [
    "train_df['LifeSquare_nan'] = train_df['LifeSquare'].isna() * 1\n",
    "condition = (train_df['LifeSquare'].isna()) & (~train_df['Square'].isna()) & (~train_df['KitchenSquare'].isna())\n",
    "train_df.loc[condition, 'LifeSquare'] = train_df.loc[condition, 'Square'] - train_df.loc[condition, 'KitchenSquare'] -3"
   ]
  },
  {
   "cell_type": "markdown",
   "id": "ce775f64",
   "metadata": {},
   "source": [
    "Эти манипуляции помогают обработать пропущенные значения в LifeSquare, используя информацию из других доступных признаков, что важно для последующего анализа и моделирования данных.\n",
    "\n",
    "\n",
    "\n",
    "\n",
    "\n",
    "\n"
   ]
  },
  {
   "cell_type": "code",
   "execution_count": 50,
   "id": "8f37b6ef",
   "metadata": {},
   "outputs": [],
   "source": [
    "train_df.drop('Healthcare_1', axis=1, inplace=True)"
   ]
  },
  {
   "cell_type": "markdown",
   "id": "5202dd1e",
   "metadata": {},
   "source": [
    "Таким образом, после выполнения этой операции столбец 'Healthcare_1' будет удален из train_df, и изменения будут сохранены в самом датафрейме train_df"
   ]
  },
  {
   "cell_type": "code",
   "execution_count": 77,
   "id": "00dbafdd",
   "metadata": {},
   "outputs": [],
   "source": [
    "class DataPreprocessing:\n",
    "    '''Подготовка исходных данных'''\n",
    "    \n",
    "    def __init__(self):\n",
    "        '''Параметры класса'''\n",
    "        self.medians = None\n",
    "        self.kitchen_square_quantile = None\n",
    "        \n",
    "    def fit(self, X):\n",
    "        '''Сохранение статистик'''\n",
    "        #расчет медиан\n",
    "        self.medians = X.median()\n",
    "        self.kitchen_square_quantile = X['KitchenSquare'].quantile(.975)\n",
    "        \n",
    "    def transform(self, X):\n",
    "        '''Трансформация данных'''\n",
    "        #Rooms\n",
    "        X['Rooms_outlier'] = 0\n",
    "        X.loc[(X['Rooms'] == 0) | (X['Rooms'] >= 6), 'Rooms_outlier'] = 1\n",
    "        X.loc[X['Rooms'] == 0, 'Rooms'] = 1\n",
    "        X.loc[X['Rooms'] >= 6, 'Rooms'] = self.medians['Rooms']\n",
    "        \n",
    "        #KitchenSquare\n",
    "        condition = (X['KitchenSquare'].isna()) | (X['KitchenSquare'] > self.kitchen_square_quantile)\n",
    "        X.loc[condition, 'KitchenSquare'] = self.medians['KitchenSquare']\n",
    "        X.loc[X['KitchenSquare'] < 4, 'KitchenSquare'] = 4\n",
    "        \n",
    "        #HouseFloor, Floor\n",
    "        X['HouseFloor_outlier'] = 0\n",
    "        X.loc[X['HouseFloor'] == 0, 'HouseFloor_outlier'] = 1\n",
    "        X.loc[X['Floor'] > X['HouseFloor'], 'HouseFloor_outlier'] = 1\n",
    "        X.loc[X['HouseFloor'] == 0, 'HouseFloor'] = self.medians['HouseFloor']\n",
    "        \n",
    "        floor_outliers = X.loc[X['Floor'] > X['HouseFloor']].index\n",
    "        X.loc[floor_outliers, 'Floor'] = X.loc[floor_outliers, 'HouseFloor'].apply(lambda x: random.randint(1, x))\n",
    "        \n",
    "        #HouseYear\n",
    "        current_year = datetime.now().year\n",
    "        X['HouseYear_outLier'] = 0\n",
    "        X.loc[X['HouseYear'] > current_year, 'HouseYear_outLier'] = 1\n",
    "        X.loc[X['HouseYear'] > current_year, 'HouseYear'] = current_year\n",
    "        \n",
    "        #Healthcare_1\n",
    "        if 'Healthcare_1' in X.columns:\n",
    "            X.drop('Healthcare_1', axis=1, inplace=True)\n",
    "        \n",
    "        #LifeSquare\n",
    "        X['LifeSquare_nan'] = X['LifeSquare'].isna() * 1\n",
    "        condition = (X['LifeSquare'].isna()) & (~X['Square'].isna()) & (~X['KitchenSquare'].isna())\n",
    "        X.loc[condition, 'LifeSquare'] = X.loc[condition, 'Square'] - X.loc[condition, 'KitchenSquare'] -3\n",
    "        \n",
    "        X.fillna(self.medians, inplace=True)\n",
    "        \n",
    "        return X\n",
    "        "
   ]
  },
  {
   "cell_type": "markdown",
   "id": "2acd88cd",
   "metadata": {},
   "source": [
    "Этот код представляет класс DataPreprocessing, который предназначен для предобработки данных.\n",
    "\n",
    "Этот класс помогает систематизировать и автоматизировать процесс предобработки данных."
   ]
  },
  {
   "cell_type": "code",
   "execution_count": 78,
   "id": "8ee56555",
   "metadata": {},
   "outputs": [],
   "source": [
    "binary_to_numbers = {'A': 0, 'B': 1}\n",
    "\n",
    "train_df['Ecology_2'] = train_df['Ecology_2'].replace(binary_to_numbers)\n",
    "train_df['Ecology_3'] = train_df['Ecology_3'].replace(binary_to_numbers)\n",
    "train_df['Shops_2'] = train_df['Shops_2'].replace(binary_to_numbers)"
   ]
  },
  {
   "cell_type": "markdown",
   "id": "d8914d63",
   "metadata": {},
   "source": [
    "Этот код выполняет преобразование категориальных признаков Ecology_2, Ecology_3 и Shops_2, которые являются бинарными (принимают значения 'A' или 'B'), в числовой формат.\n",
    "\n",
    "Это преобразование в числовой формат может быть полезным для многих алгоритмов машинного обучения, которые требуют числовых данных для работы, таких как линейные модели или некоторые деревья решений.\n",
    "\n",
    "\n",
    "\n",
    "\n",
    "\n",
    "\n"
   ]
  },
  {
   "cell_type": "code",
   "execution_count": 79,
   "id": "feb3651a",
   "metadata": {},
   "outputs": [
    {
     "data": {
      "text/html": [
       "<div>\n",
       "<style scoped>\n",
       "    .dataframe tbody tr th:only-of-type {\n",
       "        vertical-align: middle;\n",
       "    }\n",
       "\n",
       "    .dataframe tbody tr th {\n",
       "        vertical-align: top;\n",
       "    }\n",
       "\n",
       "    .dataframe thead th {\n",
       "        text-align: right;\n",
       "    }\n",
       "</style>\n",
       "<table border=\"1\" class=\"dataframe\">\n",
       "  <thead>\n",
       "    <tr style=\"text-align: right;\">\n",
       "      <th></th>\n",
       "      <th>DistrictId</th>\n",
       "      <th>District_size</th>\n",
       "    </tr>\n",
       "  </thead>\n",
       "  <tbody>\n",
       "    <tr>\n",
       "      <th>0</th>\n",
       "      <td>27</td>\n",
       "      <td>851</td>\n",
       "    </tr>\n",
       "    <tr>\n",
       "      <th>1</th>\n",
       "      <td>1</td>\n",
       "      <td>652</td>\n",
       "    </tr>\n",
       "    <tr>\n",
       "      <th>2</th>\n",
       "      <td>23</td>\n",
       "      <td>565</td>\n",
       "    </tr>\n",
       "    <tr>\n",
       "      <th>3</th>\n",
       "      <td>6</td>\n",
       "      <td>511</td>\n",
       "    </tr>\n",
       "    <tr>\n",
       "      <th>4</th>\n",
       "      <td>9</td>\n",
       "      <td>294</td>\n",
       "    </tr>\n",
       "  </tbody>\n",
       "</table>\n",
       "</div>"
      ],
      "text/plain": [
       "   DistrictId  District_size\n",
       "0          27            851\n",
       "1           1            652\n",
       "2          23            565\n",
       "3           6            511\n",
       "4           9            294"
      ]
     },
     "execution_count": 79,
     "metadata": {},
     "output_type": "execute_result"
    }
   ],
   "source": [
    "district_size = train_df['DistrictId'].value_counts().reset_index()\\\n",
    "                .rename(columns={'index': 'DistrictId', 'DistrictId': 'District_size'})\n",
    "district_size.head()"
   ]
  },
  {
   "cell_type": "markdown",
   "id": "34ff49fa",
   "metadata": {},
   "source": [
    "Мы создаем новый DataFrame district_size, который содержит информацию о размере каждого района (DistrictId) на основе количества записей, относящихся к каждому уникальному значению DistrictId в train_df.\n",
    "\n",
    "Таким образом, district_size содержит информацию о том, сколько объектов (недвижимости) находится в каждом районе по их DistrictId."
   ]
  },
  {
   "cell_type": "code",
   "execution_count": 80,
   "id": "90e65366",
   "metadata": {},
   "outputs": [
    {
     "data": {
      "text/html": [
       "<div>\n",
       "<style scoped>\n",
       "    .dataframe tbody tr th:only-of-type {\n",
       "        vertical-align: middle;\n",
       "    }\n",
       "\n",
       "    .dataframe tbody tr th {\n",
       "        vertical-align: top;\n",
       "    }\n",
       "\n",
       "    .dataframe thead th {\n",
       "        text-align: right;\n",
       "    }\n",
       "</style>\n",
       "<table border=\"1\" class=\"dataframe\">\n",
       "  <thead>\n",
       "    <tr style=\"text-align: right;\">\n",
       "      <th></th>\n",
       "      <th>Id</th>\n",
       "      <th>DistrictId</th>\n",
       "      <th>Rooms</th>\n",
       "      <th>Square</th>\n",
       "      <th>LifeSquare</th>\n",
       "      <th>KitchenSquare</th>\n",
       "      <th>Floor</th>\n",
       "      <th>HouseFloor</th>\n",
       "      <th>HouseYear</th>\n",
       "      <th>Ecology_1</th>\n",
       "      <th>...</th>\n",
       "      <th>Ecology_3</th>\n",
       "      <th>Social_1</th>\n",
       "      <th>Social_2</th>\n",
       "      <th>Social_3</th>\n",
       "      <th>Healthcare_1</th>\n",
       "      <th>Helthcare_2</th>\n",
       "      <th>Shops_1</th>\n",
       "      <th>Shops_2</th>\n",
       "      <th>Price</th>\n",
       "      <th>District_size</th>\n",
       "    </tr>\n",
       "  </thead>\n",
       "  <tbody>\n",
       "    <tr>\n",
       "      <th>0</th>\n",
       "      <td>14038</td>\n",
       "      <td>35</td>\n",
       "      <td>2.0</td>\n",
       "      <td>47.981561</td>\n",
       "      <td>29.442751</td>\n",
       "      <td>6.0</td>\n",
       "      <td>7</td>\n",
       "      <td>9.0</td>\n",
       "      <td>1969</td>\n",
       "      <td>0.089040</td>\n",
       "      <td>...</td>\n",
       "      <td>1</td>\n",
       "      <td>33</td>\n",
       "      <td>7976</td>\n",
       "      <td>5</td>\n",
       "      <td>NaN</td>\n",
       "      <td>0</td>\n",
       "      <td>11</td>\n",
       "      <td>1</td>\n",
       "      <td>184966.930730</td>\n",
       "      <td>22</td>\n",
       "    </tr>\n",
       "    <tr>\n",
       "      <th>1</th>\n",
       "      <td>15053</td>\n",
       "      <td>41</td>\n",
       "      <td>3.0</td>\n",
       "      <td>65.683640</td>\n",
       "      <td>40.049543</td>\n",
       "      <td>8.0</td>\n",
       "      <td>7</td>\n",
       "      <td>9.0</td>\n",
       "      <td>1978</td>\n",
       "      <td>0.000070</td>\n",
       "      <td>...</td>\n",
       "      <td>1</td>\n",
       "      <td>46</td>\n",
       "      <td>10309</td>\n",
       "      <td>1</td>\n",
       "      <td>240.0</td>\n",
       "      <td>1</td>\n",
       "      <td>16</td>\n",
       "      <td>1</td>\n",
       "      <td>300009.450063</td>\n",
       "      <td>87</td>\n",
       "    </tr>\n",
       "    <tr>\n",
       "      <th>2</th>\n",
       "      <td>4765</td>\n",
       "      <td>53</td>\n",
       "      <td>2.0</td>\n",
       "      <td>44.947953</td>\n",
       "      <td>29.197612</td>\n",
       "      <td>0.0</td>\n",
       "      <td>8</td>\n",
       "      <td>12.0</td>\n",
       "      <td>1968</td>\n",
       "      <td>0.049637</td>\n",
       "      <td>...</td>\n",
       "      <td>1</td>\n",
       "      <td>34</td>\n",
       "      <td>7759</td>\n",
       "      <td>0</td>\n",
       "      <td>229.0</td>\n",
       "      <td>1</td>\n",
       "      <td>3</td>\n",
       "      <td>1</td>\n",
       "      <td>220925.908524</td>\n",
       "      <td>174</td>\n",
       "    </tr>\n",
       "    <tr>\n",
       "      <th>3</th>\n",
       "      <td>5809</td>\n",
       "      <td>58</td>\n",
       "      <td>2.0</td>\n",
       "      <td>53.352981</td>\n",
       "      <td>52.731512</td>\n",
       "      <td>9.0</td>\n",
       "      <td>8</td>\n",
       "      <td>17.0</td>\n",
       "      <td>1977</td>\n",
       "      <td>0.437885</td>\n",
       "      <td>...</td>\n",
       "      <td>1</td>\n",
       "      <td>23</td>\n",
       "      <td>5735</td>\n",
       "      <td>3</td>\n",
       "      <td>1084.0</td>\n",
       "      <td>0</td>\n",
       "      <td>5</td>\n",
       "      <td>1</td>\n",
       "      <td>175616.227217</td>\n",
       "      <td>179</td>\n",
       "    </tr>\n",
       "    <tr>\n",
       "      <th>4</th>\n",
       "      <td>10783</td>\n",
       "      <td>99</td>\n",
       "      <td>1.0</td>\n",
       "      <td>39.649192</td>\n",
       "      <td>23.776169</td>\n",
       "      <td>7.0</td>\n",
       "      <td>11</td>\n",
       "      <td>12.0</td>\n",
       "      <td>1976</td>\n",
       "      <td>0.012339</td>\n",
       "      <td>...</td>\n",
       "      <td>1</td>\n",
       "      <td>35</td>\n",
       "      <td>5776</td>\n",
       "      <td>1</td>\n",
       "      <td>2078.0</td>\n",
       "      <td>2</td>\n",
       "      <td>4</td>\n",
       "      <td>1</td>\n",
       "      <td>150226.531644</td>\n",
       "      <td>97</td>\n",
       "    </tr>\n",
       "  </tbody>\n",
       "</table>\n",
       "<p>5 rows × 21 columns</p>\n",
       "</div>"
      ],
      "text/plain": [
       "      Id  DistrictId  Rooms     Square  LifeSquare  KitchenSquare  Floor  \\\n",
       "0  14038          35    2.0  47.981561   29.442751            6.0      7   \n",
       "1  15053          41    3.0  65.683640   40.049543            8.0      7   \n",
       "2   4765          53    2.0  44.947953   29.197612            0.0      8   \n",
       "3   5809          58    2.0  53.352981   52.731512            9.0      8   \n",
       "4  10783          99    1.0  39.649192   23.776169            7.0     11   \n",
       "\n",
       "   HouseFloor  HouseYear  Ecology_1  ...  Ecology_3  Social_1  Social_2  \\\n",
       "0         9.0       1969   0.089040  ...          1        33      7976   \n",
       "1         9.0       1978   0.000070  ...          1        46     10309   \n",
       "2        12.0       1968   0.049637  ...          1        34      7759   \n",
       "3        17.0       1977   0.437885  ...          1        23      5735   \n",
       "4        12.0       1976   0.012339  ...          1        35      5776   \n",
       "\n",
       "   Social_3  Healthcare_1  Helthcare_2  Shops_1  Shops_2          Price  \\\n",
       "0         5           NaN            0       11        1  184966.930730   \n",
       "1         1         240.0            1       16        1  300009.450063   \n",
       "2         0         229.0            1        3        1  220925.908524   \n",
       "3         3        1084.0            0        5        1  175616.227217   \n",
       "4         1        2078.0            2        4        1  150226.531644   \n",
       "\n",
       "   District_size  \n",
       "0             22  \n",
       "1             87  \n",
       "2            174  \n",
       "3            179  \n",
       "4             97  \n",
       "\n",
       "[5 rows x 21 columns]"
      ]
     },
     "execution_count": 80,
     "metadata": {},
     "output_type": "execute_result"
    }
   ],
   "source": [
    "train_df = train_df.merge(district_size, on='DistrictId', how='left')\n",
    "train_df.head()"
   ]
  },
  {
   "cell_type": "markdown",
   "id": "2a786a3a",
   "metadata": {},
   "source": [
    "Код выполняет объединение исходного DataFrame train_df с DataFrame district_size, который содержит информацию о размере каждого района (DistrictId)."
   ]
  },
  {
   "cell_type": "code",
   "execution_count": 81,
   "id": "565b5ac7",
   "metadata": {},
   "outputs": [
    {
     "data": {
      "text/plain": [
       "True     5069\n",
       "False    4931\n",
       "Name: District_size, dtype: int64"
      ]
     },
     "execution_count": 81,
     "metadata": {},
     "output_type": "execute_result"
    }
   ],
   "source": [
    "(train_df['District_size'] > 100).value_counts()"
   ]
  },
  {
   "cell_type": "markdown",
   "id": "c31bc792",
   "metadata": {},
   "source": [
    "В столбце District_size в объединенном DataFrame train_df есть 5069 районов, в которых количество объектов недвижимости больше 100, и 4931 район, где количество объектов меньше или равно 100."
   ]
  },
  {
   "cell_type": "code",
   "execution_count": 82,
   "id": "42eec6fb",
   "metadata": {},
   "outputs": [],
   "source": [
    "train_df['IsDistrictLarge'] = (train_df['District_size'] > 100).astype(int)"
   ]
  },
  {
   "cell_type": "markdown",
   "id": "c65ff6c0",
   "metadata": {},
   "source": [
    "Эта операция полезна для учета влияния размера района на цену недвижимости."
   ]
  },
  {
   "cell_type": "code",
   "execution_count": 83,
   "id": "87aecce4",
   "metadata": {},
   "outputs": [
    {
     "data": {
      "text/html": [
       "<div>\n",
       "<style scoped>\n",
       "    .dataframe tbody tr th:only-of-type {\n",
       "        vertical-align: middle;\n",
       "    }\n",
       "\n",
       "    .dataframe tbody tr th {\n",
       "        vertical-align: top;\n",
       "    }\n",
       "\n",
       "    .dataframe thead th {\n",
       "        text-align: right;\n",
       "    }\n",
       "</style>\n",
       "<table border=\"1\" class=\"dataframe\">\n",
       "  <thead>\n",
       "    <tr style=\"text-align: right;\">\n",
       "      <th></th>\n",
       "      <th>DistrictId</th>\n",
       "      <th>Rooms</th>\n",
       "      <th>MedPriceByDistrict</th>\n",
       "    </tr>\n",
       "  </thead>\n",
       "  <tbody>\n",
       "    <tr>\n",
       "      <th>0</th>\n",
       "      <td>0</td>\n",
       "      <td>1.0</td>\n",
       "      <td>142799.434052</td>\n",
       "    </tr>\n",
       "    <tr>\n",
       "      <th>1</th>\n",
       "      <td>0</td>\n",
       "      <td>2.0</td>\n",
       "      <td>176210.812334</td>\n",
       "    </tr>\n",
       "    <tr>\n",
       "      <th>2</th>\n",
       "      <td>0</td>\n",
       "      <td>3.0</td>\n",
       "      <td>300610.359425</td>\n",
       "    </tr>\n",
       "    <tr>\n",
       "      <th>3</th>\n",
       "      <td>1</td>\n",
       "      <td>1.0</td>\n",
       "      <td>146735.671740</td>\n",
       "    </tr>\n",
       "    <tr>\n",
       "      <th>4</th>\n",
       "      <td>1</td>\n",
       "      <td>2.0</td>\n",
       "      <td>202706.090239</td>\n",
       "    </tr>\n",
       "  </tbody>\n",
       "</table>\n",
       "</div>"
      ],
      "text/plain": [
       "   DistrictId  Rooms  MedPriceByDistrict\n",
       "0           0    1.0       142799.434052\n",
       "1           0    2.0       176210.812334\n",
       "2           0    3.0       300610.359425\n",
       "3           1    1.0       146735.671740\n",
       "4           1    2.0       202706.090239"
      ]
     },
     "execution_count": 83,
     "metadata": {},
     "output_type": "execute_result"
    }
   ],
   "source": [
    "med_price_by_district = train_df.groupby(['DistrictId', 'Rooms'], as_index=False).agg({'Price': 'median'})\\\n",
    "                        .rename(columns={'Price': 'MedPriceByDistrict'})\n",
    "med_price_by_district.head()"
   ]
  },
  {
   "cell_type": "markdown",
   "id": "628c3c65",
   "metadata": {},
   "source": [
    "Создадим новый DataFrame med_price_by_district, который содержит медианные цены (MedPriceByDistrict) для каждого района (DistrictId) и числа комнат (Rooms)."
   ]
  },
  {
   "cell_type": "code",
   "execution_count": 84,
   "id": "25e2d221",
   "metadata": {},
   "outputs": [
    {
     "data": {
      "text/html": [
       "<div>\n",
       "<style scoped>\n",
       "    .dataframe tbody tr th:only-of-type {\n",
       "        vertical-align: middle;\n",
       "    }\n",
       "\n",
       "    .dataframe tbody tr th {\n",
       "        vertical-align: top;\n",
       "    }\n",
       "\n",
       "    .dataframe thead th {\n",
       "        text-align: right;\n",
       "    }\n",
       "</style>\n",
       "<table border=\"1\" class=\"dataframe\">\n",
       "  <thead>\n",
       "    <tr style=\"text-align: right;\">\n",
       "      <th></th>\n",
       "      <th>Id</th>\n",
       "      <th>DistrictId</th>\n",
       "      <th>Rooms</th>\n",
       "      <th>Square</th>\n",
       "      <th>LifeSquare</th>\n",
       "      <th>KitchenSquare</th>\n",
       "      <th>Floor</th>\n",
       "      <th>HouseFloor</th>\n",
       "      <th>HouseYear</th>\n",
       "      <th>Ecology_1</th>\n",
       "      <th>...</th>\n",
       "      <th>Social_2</th>\n",
       "      <th>Social_3</th>\n",
       "      <th>Healthcare_1</th>\n",
       "      <th>Helthcare_2</th>\n",
       "      <th>Shops_1</th>\n",
       "      <th>Shops_2</th>\n",
       "      <th>Price</th>\n",
       "      <th>District_size</th>\n",
       "      <th>IsDistrictLarge</th>\n",
       "      <th>MedPriceByDistrict</th>\n",
       "    </tr>\n",
       "  </thead>\n",
       "  <tbody>\n",
       "    <tr>\n",
       "      <th>0</th>\n",
       "      <td>14038</td>\n",
       "      <td>35</td>\n",
       "      <td>2.0</td>\n",
       "      <td>47.981561</td>\n",
       "      <td>29.442751</td>\n",
       "      <td>6.0</td>\n",
       "      <td>7</td>\n",
       "      <td>9.0</td>\n",
       "      <td>1969</td>\n",
       "      <td>0.089040</td>\n",
       "      <td>...</td>\n",
       "      <td>7976</td>\n",
       "      <td>5</td>\n",
       "      <td>NaN</td>\n",
       "      <td>0</td>\n",
       "      <td>11</td>\n",
       "      <td>1</td>\n",
       "      <td>184966.930730</td>\n",
       "      <td>22</td>\n",
       "      <td>0</td>\n",
       "      <td>207786.135836</td>\n",
       "    </tr>\n",
       "    <tr>\n",
       "      <th>1</th>\n",
       "      <td>15053</td>\n",
       "      <td>41</td>\n",
       "      <td>3.0</td>\n",
       "      <td>65.683640</td>\n",
       "      <td>40.049543</td>\n",
       "      <td>8.0</td>\n",
       "      <td>7</td>\n",
       "      <td>9.0</td>\n",
       "      <td>1978</td>\n",
       "      <td>0.000070</td>\n",
       "      <td>...</td>\n",
       "      <td>10309</td>\n",
       "      <td>1</td>\n",
       "      <td>240.0</td>\n",
       "      <td>1</td>\n",
       "      <td>16</td>\n",
       "      <td>1</td>\n",
       "      <td>300009.450063</td>\n",
       "      <td>87</td>\n",
       "      <td>0</td>\n",
       "      <td>300009.450063</td>\n",
       "    </tr>\n",
       "    <tr>\n",
       "      <th>2</th>\n",
       "      <td>4765</td>\n",
       "      <td>53</td>\n",
       "      <td>2.0</td>\n",
       "      <td>44.947953</td>\n",
       "      <td>29.197612</td>\n",
       "      <td>0.0</td>\n",
       "      <td>8</td>\n",
       "      <td>12.0</td>\n",
       "      <td>1968</td>\n",
       "      <td>0.049637</td>\n",
       "      <td>...</td>\n",
       "      <td>7759</td>\n",
       "      <td>0</td>\n",
       "      <td>229.0</td>\n",
       "      <td>1</td>\n",
       "      <td>3</td>\n",
       "      <td>1</td>\n",
       "      <td>220925.908524</td>\n",
       "      <td>174</td>\n",
       "      <td>1</td>\n",
       "      <td>263206.223152</td>\n",
       "    </tr>\n",
       "    <tr>\n",
       "      <th>3</th>\n",
       "      <td>5809</td>\n",
       "      <td>58</td>\n",
       "      <td>2.0</td>\n",
       "      <td>53.352981</td>\n",
       "      <td>52.731512</td>\n",
       "      <td>9.0</td>\n",
       "      <td>8</td>\n",
       "      <td>17.0</td>\n",
       "      <td>1977</td>\n",
       "      <td>0.437885</td>\n",
       "      <td>...</td>\n",
       "      <td>5735</td>\n",
       "      <td>3</td>\n",
       "      <td>1084.0</td>\n",
       "      <td>0</td>\n",
       "      <td>5</td>\n",
       "      <td>1</td>\n",
       "      <td>175616.227217</td>\n",
       "      <td>179</td>\n",
       "      <td>1</td>\n",
       "      <td>166809.665642</td>\n",
       "    </tr>\n",
       "    <tr>\n",
       "      <th>4</th>\n",
       "      <td>10783</td>\n",
       "      <td>99</td>\n",
       "      <td>1.0</td>\n",
       "      <td>39.649192</td>\n",
       "      <td>23.776169</td>\n",
       "      <td>7.0</td>\n",
       "      <td>11</td>\n",
       "      <td>12.0</td>\n",
       "      <td>1976</td>\n",
       "      <td>0.012339</td>\n",
       "      <td>...</td>\n",
       "      <td>5776</td>\n",
       "      <td>1</td>\n",
       "      <td>2078.0</td>\n",
       "      <td>2</td>\n",
       "      <td>4</td>\n",
       "      <td>1</td>\n",
       "      <td>150226.531644</td>\n",
       "      <td>97</td>\n",
       "      <td>0</td>\n",
       "      <td>158539.052715</td>\n",
       "    </tr>\n",
       "  </tbody>\n",
       "</table>\n",
       "<p>5 rows × 23 columns</p>\n",
       "</div>"
      ],
      "text/plain": [
       "      Id  DistrictId  Rooms     Square  LifeSquare  KitchenSquare  Floor  \\\n",
       "0  14038          35    2.0  47.981561   29.442751            6.0      7   \n",
       "1  15053          41    3.0  65.683640   40.049543            8.0      7   \n",
       "2   4765          53    2.0  44.947953   29.197612            0.0      8   \n",
       "3   5809          58    2.0  53.352981   52.731512            9.0      8   \n",
       "4  10783          99    1.0  39.649192   23.776169            7.0     11   \n",
       "\n",
       "   HouseFloor  HouseYear  Ecology_1  ...  Social_2  Social_3  Healthcare_1  \\\n",
       "0         9.0       1969   0.089040  ...      7976         5           NaN   \n",
       "1         9.0       1978   0.000070  ...     10309         1         240.0   \n",
       "2        12.0       1968   0.049637  ...      7759         0         229.0   \n",
       "3        17.0       1977   0.437885  ...      5735         3        1084.0   \n",
       "4        12.0       1976   0.012339  ...      5776         1        2078.0   \n",
       "\n",
       "   Helthcare_2  Shops_1  Shops_2          Price  District_size  \\\n",
       "0            0       11        1  184966.930730             22   \n",
       "1            1       16        1  300009.450063             87   \n",
       "2            1        3        1  220925.908524            174   \n",
       "3            0        5        1  175616.227217            179   \n",
       "4            2        4        1  150226.531644             97   \n",
       "\n",
       "   IsDistrictLarge  MedPriceByDistrict  \n",
       "0                0       207786.135836  \n",
       "1                0       300009.450063  \n",
       "2                1       263206.223152  \n",
       "3                1       166809.665642  \n",
       "4                0       158539.052715  \n",
       "\n",
       "[5 rows x 23 columns]"
      ]
     },
     "execution_count": 84,
     "metadata": {},
     "output_type": "execute_result"
    }
   ],
   "source": [
    "train_df = train_df.merge(med_price_by_district, on=['DistrictId', 'Rooms'], how='left')\n",
    "train_df.head()"
   ]
  },
  {
   "cell_type": "markdown",
   "id": "c71f2288",
   "metadata": {},
   "source": [
    "Этот код выполняет объединение (merge) двух DataFrame: train_df и med_price_by_district, основываясь на столбцах DistrictId и Rooms. В результате добавляется новый столбец MedPriceByDistrict к исходному DataFrame train_df."
   ]
  },
  {
   "cell_type": "code",
   "execution_count": 85,
   "id": "df442512",
   "metadata": {},
   "outputs": [],
   "source": [
    "def floor_to_cat(X):\n",
    "    \n",
    "    X['Floor_cat'] = 0\n",
    "    \n",
    "    X.loc[X['Floor'] < 3, 'Floor_cat'] = 1\n",
    "    X.loc[(X['Floor'] > 3) & (X['Floor'] <= 5), 'Floor_cat'] = 2\n",
    "    X.loc[(X['Floor'] > 5) & (X['Floor'] <= 9), 'Floor_cat'] = 3\n",
    "    X.loc[(X['Floor'] > 9) & (X['Floor'] <= 15), 'Floor_cat'] = 4\n",
    "    X.loc[X['Floor'] > 15, 'Floor_cat'] = 5\n",
    "    \n",
    "    return X\n",
    "\n",
    "\n",
    "def floor_to_cat_pandas(X):\n",
    "    \n",
    "    bins = [0, 3, 5, 9, 15, X['Floor'].max()]\n",
    "    X['Floor_cat'] = pd.cut(X['Floor'], bins=bins, labels=False)\n",
    "    \n",
    "    X['Floor_cat'].fillna(-1, inplace=True)\n",
    "    \n",
    "    return X\n",
    "\n",
    "\n",
    "def year_to_cat(X):\n",
    "    \n",
    "    X['Yaer_cat'] = 0\n",
    "    \n",
    "    X.loc[X['HouseYear'] <= 1941, 'Yaer_cat'] = 1\n",
    "    X.loc[(X['HouseYear'] > 1941) & (X['HouseYear'] <= 1945), 'Yaer_cat'] = 2\n",
    "    X.loc[(X['HouseYear'] > 1945) & (X['HouseYear'] <= 1980), 'Yaer_cat'] = 3\n",
    "    X.loc[(X['HouseYear'] > 1980) & (X['HouseYear'] <= 2000), 'Yaer_cat'] = 4\n",
    "    X.loc[(X['HouseYear'] > 2000) & (X['HouseYear'] <= 2010), 'Yaer_cat'] = 5\n",
    "    X.loc[X['HouseYear'] > 2010, 'Yaer_cat'] = 6\n",
    "    \n",
    "    return X\n",
    "\n",
    "\n",
    "def yaer_to_pandas(X):\n",
    "    \n",
    "    bins = [0, 1941, 1945, 1980, 2000, 2010, X['HouseYear'].max()]\n",
    "    X['Yaer_cat'] = pd.cut(X['HouseYear'], bins=bins, labels=False)\n",
    "    X['Yaer_cat'].fillna(-1, inplace=True)\n",
    "    \n",
    "    return X\n",
    "    "
   ]
  },
  {
   "cell_type": "markdown",
   "id": "c5fcc47a",
   "metadata": {},
   "source": [
    "Общее назначение:\n",
    "Эти функции полезны для преобразования числовых данных о этаже и годе постройки в категориальные признаки"
   ]
  },
  {
   "cell_type": "code",
   "execution_count": 86,
   "id": "546d8af7",
   "metadata": {},
   "outputs": [
    {
     "data": {
      "text/plain": [
       "0       2\n",
       "1       2\n",
       "2       2\n",
       "3       2\n",
       "4       3\n",
       "       ..\n",
       "9995    2\n",
       "9996    3\n",
       "9997    3\n",
       "9998    0\n",
       "9999    2\n",
       "Name: Floor, Length: 10000, dtype: int64"
      ]
     },
     "execution_count": 86,
     "metadata": {},
     "output_type": "execute_result"
    }
   ],
   "source": [
    "bins = [0, 3, 5, 9, 15, train_df['Floor'].max()]\n",
    "pd.cut(train_df['Floor'], bins=bins, labels=False)"
   ]
  },
  {
   "cell_type": "markdown",
   "id": "9485d595",
   "metadata": {},
   "source": [
    "Используем pd.cut, чтобы преобразовать числовой признак Floor в категориальный"
   ]
  },
  {
   "cell_type": "code",
   "execution_count": 87,
   "id": "c5982c39",
   "metadata": {},
   "outputs": [
    {
     "data": {
      "text/plain": [
       "0        (5, 9]\n",
       "1        (5, 9]\n",
       "2        (5, 9]\n",
       "3        (5, 9]\n",
       "4       (9, 15]\n",
       "         ...   \n",
       "9995     (5, 9]\n",
       "9996    (9, 15]\n",
       "9997    (9, 15]\n",
       "9998     (0, 3]\n",
       "9999     (5, 9]\n",
       "Name: Floor, Length: 10000, dtype: category\n",
       "Categories (5, interval[int64, right]): [(0, 3] < (3, 5] < (5, 9] < (9, 15] < (15, 42]]"
      ]
     },
     "execution_count": 87,
     "metadata": {},
     "output_type": "execute_result"
    }
   ],
   "source": [
    "bins = [0, 3, 5, 9, 15, train_df['Floor'].max()]\n",
    "pd.cut(train_df['Floor'], bins=bins)"
   ]
  },
  {
   "cell_type": "markdown",
   "id": "c01d0020",
   "metadata": {},
   "source": [
    "Этот код создаёт категориальную переменную Floor_cat на основе интервалов, заданных в списке bins, используя функцию pd.cut в библиотеке Pandas."
   ]
  },
  {
   "cell_type": "code",
   "execution_count": 88,
   "id": "a74f804c",
   "metadata": {},
   "outputs": [
    {
     "data": {
      "text/html": [
       "<div>\n",
       "<style scoped>\n",
       "    .dataframe tbody tr th:only-of-type {\n",
       "        vertical-align: middle;\n",
       "    }\n",
       "\n",
       "    .dataframe tbody tr th {\n",
       "        vertical-align: top;\n",
       "    }\n",
       "\n",
       "    .dataframe thead th {\n",
       "        text-align: right;\n",
       "    }\n",
       "</style>\n",
       "<table border=\"1\" class=\"dataframe\">\n",
       "  <thead>\n",
       "    <tr style=\"text-align: right;\">\n",
       "      <th></th>\n",
       "      <th>Id</th>\n",
       "      <th>DistrictId</th>\n",
       "      <th>Rooms</th>\n",
       "      <th>Square</th>\n",
       "      <th>LifeSquare</th>\n",
       "      <th>KitchenSquare</th>\n",
       "      <th>Floor</th>\n",
       "      <th>HouseFloor</th>\n",
       "      <th>HouseYear</th>\n",
       "      <th>Ecology_1</th>\n",
       "      <th>...</th>\n",
       "      <th>Healthcare_1</th>\n",
       "      <th>Helthcare_2</th>\n",
       "      <th>Shops_1</th>\n",
       "      <th>Shops_2</th>\n",
       "      <th>Price</th>\n",
       "      <th>District_size</th>\n",
       "      <th>IsDistrictLarge</th>\n",
       "      <th>MedPriceByDistrict</th>\n",
       "      <th>Yaer_cat</th>\n",
       "      <th>Floor_cat</th>\n",
       "    </tr>\n",
       "  </thead>\n",
       "  <tbody>\n",
       "    <tr>\n",
       "      <th>0</th>\n",
       "      <td>14038</td>\n",
       "      <td>35</td>\n",
       "      <td>2.0</td>\n",
       "      <td>47.981561</td>\n",
       "      <td>29.442751</td>\n",
       "      <td>6.0</td>\n",
       "      <td>7</td>\n",
       "      <td>9.0</td>\n",
       "      <td>1969</td>\n",
       "      <td>0.089040</td>\n",
       "      <td>...</td>\n",
       "      <td>NaN</td>\n",
       "      <td>0</td>\n",
       "      <td>11</td>\n",
       "      <td>1</td>\n",
       "      <td>184966.930730</td>\n",
       "      <td>22</td>\n",
       "      <td>0</td>\n",
       "      <td>207786.135836</td>\n",
       "      <td>3</td>\n",
       "      <td>3</td>\n",
       "    </tr>\n",
       "    <tr>\n",
       "      <th>1</th>\n",
       "      <td>15053</td>\n",
       "      <td>41</td>\n",
       "      <td>3.0</td>\n",
       "      <td>65.683640</td>\n",
       "      <td>40.049543</td>\n",
       "      <td>8.0</td>\n",
       "      <td>7</td>\n",
       "      <td>9.0</td>\n",
       "      <td>1978</td>\n",
       "      <td>0.000070</td>\n",
       "      <td>...</td>\n",
       "      <td>240.0</td>\n",
       "      <td>1</td>\n",
       "      <td>16</td>\n",
       "      <td>1</td>\n",
       "      <td>300009.450063</td>\n",
       "      <td>87</td>\n",
       "      <td>0</td>\n",
       "      <td>300009.450063</td>\n",
       "      <td>3</td>\n",
       "      <td>3</td>\n",
       "    </tr>\n",
       "    <tr>\n",
       "      <th>2</th>\n",
       "      <td>4765</td>\n",
       "      <td>53</td>\n",
       "      <td>2.0</td>\n",
       "      <td>44.947953</td>\n",
       "      <td>29.197612</td>\n",
       "      <td>0.0</td>\n",
       "      <td>8</td>\n",
       "      <td>12.0</td>\n",
       "      <td>1968</td>\n",
       "      <td>0.049637</td>\n",
       "      <td>...</td>\n",
       "      <td>229.0</td>\n",
       "      <td>1</td>\n",
       "      <td>3</td>\n",
       "      <td>1</td>\n",
       "      <td>220925.908524</td>\n",
       "      <td>174</td>\n",
       "      <td>1</td>\n",
       "      <td>263206.223152</td>\n",
       "      <td>3</td>\n",
       "      <td>3</td>\n",
       "    </tr>\n",
       "    <tr>\n",
       "      <th>3</th>\n",
       "      <td>5809</td>\n",
       "      <td>58</td>\n",
       "      <td>2.0</td>\n",
       "      <td>53.352981</td>\n",
       "      <td>52.731512</td>\n",
       "      <td>9.0</td>\n",
       "      <td>8</td>\n",
       "      <td>17.0</td>\n",
       "      <td>1977</td>\n",
       "      <td>0.437885</td>\n",
       "      <td>...</td>\n",
       "      <td>1084.0</td>\n",
       "      <td>0</td>\n",
       "      <td>5</td>\n",
       "      <td>1</td>\n",
       "      <td>175616.227217</td>\n",
       "      <td>179</td>\n",
       "      <td>1</td>\n",
       "      <td>166809.665642</td>\n",
       "      <td>3</td>\n",
       "      <td>3</td>\n",
       "    </tr>\n",
       "    <tr>\n",
       "      <th>4</th>\n",
       "      <td>10783</td>\n",
       "      <td>99</td>\n",
       "      <td>1.0</td>\n",
       "      <td>39.649192</td>\n",
       "      <td>23.776169</td>\n",
       "      <td>7.0</td>\n",
       "      <td>11</td>\n",
       "      <td>12.0</td>\n",
       "      <td>1976</td>\n",
       "      <td>0.012339</td>\n",
       "      <td>...</td>\n",
       "      <td>2078.0</td>\n",
       "      <td>2</td>\n",
       "      <td>4</td>\n",
       "      <td>1</td>\n",
       "      <td>150226.531644</td>\n",
       "      <td>97</td>\n",
       "      <td>0</td>\n",
       "      <td>158539.052715</td>\n",
       "      <td>3</td>\n",
       "      <td>4</td>\n",
       "    </tr>\n",
       "  </tbody>\n",
       "</table>\n",
       "<p>5 rows × 25 columns</p>\n",
       "</div>"
      ],
      "text/plain": [
       "      Id  DistrictId  Rooms     Square  LifeSquare  KitchenSquare  Floor  \\\n",
       "0  14038          35    2.0  47.981561   29.442751            6.0      7   \n",
       "1  15053          41    3.0  65.683640   40.049543            8.0      7   \n",
       "2   4765          53    2.0  44.947953   29.197612            0.0      8   \n",
       "3   5809          58    2.0  53.352981   52.731512            9.0      8   \n",
       "4  10783          99    1.0  39.649192   23.776169            7.0     11   \n",
       "\n",
       "   HouseFloor  HouseYear  Ecology_1  ...  Healthcare_1  Helthcare_2  Shops_1  \\\n",
       "0         9.0       1969   0.089040  ...           NaN            0       11   \n",
       "1         9.0       1978   0.000070  ...         240.0            1       16   \n",
       "2        12.0       1968   0.049637  ...         229.0            1        3   \n",
       "3        17.0       1977   0.437885  ...        1084.0            0        5   \n",
       "4        12.0       1976   0.012339  ...        2078.0            2        4   \n",
       "\n",
       "   Shops_2          Price  District_size  IsDistrictLarge  MedPriceByDistrict  \\\n",
       "0        1  184966.930730             22                0       207786.135836   \n",
       "1        1  300009.450063             87                0       300009.450063   \n",
       "2        1  220925.908524            174                1       263206.223152   \n",
       "3        1  175616.227217            179                1       166809.665642   \n",
       "4        1  150226.531644             97                0       158539.052715   \n",
       "\n",
       "   Yaer_cat  Floor_cat  \n",
       "0         3          3  \n",
       "1         3          3  \n",
       "2         3          3  \n",
       "3         3          3  \n",
       "4         3          4  \n",
       "\n",
       "[5 rows x 25 columns]"
      ]
     },
     "execution_count": 88,
     "metadata": {},
     "output_type": "execute_result"
    }
   ],
   "source": [
    "train_df = year_to_cat(train_df)\n",
    "train_df = floor_to_cat(train_df)\n",
    "train_df.head()\n"
   ]
  },
  {
   "cell_type": "markdown",
   "id": "d2b255c3",
   "metadata": {},
   "source": [
    "Мы успешно преобразовали данные в соответствии с функциями year_to_cat и floor_to_cat."
   ]
  },
  {
   "cell_type": "code",
   "execution_count": 89,
   "id": "606b7eb7",
   "metadata": {},
   "outputs": [
    {
     "data": {
      "text/html": [
       "<div>\n",
       "<style scoped>\n",
       "    .dataframe tbody tr th:only-of-type {\n",
       "        vertical-align: middle;\n",
       "    }\n",
       "\n",
       "    .dataframe tbody tr th {\n",
       "        vertical-align: top;\n",
       "    }\n",
       "\n",
       "    .dataframe thead th {\n",
       "        text-align: right;\n",
       "    }\n",
       "</style>\n",
       "<table border=\"1\" class=\"dataframe\">\n",
       "  <thead>\n",
       "    <tr style=\"text-align: right;\">\n",
       "      <th></th>\n",
       "      <th>Yaer_cat</th>\n",
       "      <th>Floor_cat</th>\n",
       "      <th>MedPriceByFloorYear</th>\n",
       "    </tr>\n",
       "  </thead>\n",
       "  <tbody>\n",
       "    <tr>\n",
       "      <th>0</th>\n",
       "      <td>1</td>\n",
       "      <td>0</td>\n",
       "      <td>424688.437016</td>\n",
       "    </tr>\n",
       "    <tr>\n",
       "      <th>1</th>\n",
       "      <td>1</td>\n",
       "      <td>1</td>\n",
       "      <td>300001.927452</td>\n",
       "    </tr>\n",
       "    <tr>\n",
       "      <th>2</th>\n",
       "      <td>1</td>\n",
       "      <td>2</td>\n",
       "      <td>321497.418777</td>\n",
       "    </tr>\n",
       "    <tr>\n",
       "      <th>3</th>\n",
       "      <td>1</td>\n",
       "      <td>3</td>\n",
       "      <td>368718.236013</td>\n",
       "    </tr>\n",
       "    <tr>\n",
       "      <th>4</th>\n",
       "      <td>1</td>\n",
       "      <td>4</td>\n",
       "      <td>400715.465642</td>\n",
       "    </tr>\n",
       "  </tbody>\n",
       "</table>\n",
       "</div>"
      ],
      "text/plain": [
       "   Yaer_cat  Floor_cat  MedPriceByFloorYear\n",
       "0         1          0        424688.437016\n",
       "1         1          1        300001.927452\n",
       "2         1          2        321497.418777\n",
       "3         1          3        368718.236013\n",
       "4         1          4        400715.465642"
      ]
     },
     "execution_count": 89,
     "metadata": {},
     "output_type": "execute_result"
    }
   ],
   "source": [
    "med_price_by_floor_yaer = train_df.groupby(['Yaer_cat', 'Floor_cat'], as_index=False).agg({'Price': 'median'})\\\n",
    "                        .rename(columns={'Price': 'MedPriceByFloorYear'})\n",
    "med_price_by_floor_yaer.head()"
   ]
  },
  {
   "cell_type": "markdown",
   "id": "41832c23",
   "metadata": {},
   "source": [
    "Мы создали таблицу med_price_by_floor_yaer, которая содержит медианные цены (MedPriceByFloorYear) по комбинациям категорий Yaer_cat и Floor_cat."
   ]
  },
  {
   "cell_type": "code",
   "execution_count": 90,
   "id": "b5c820ba",
   "metadata": {},
   "outputs": [
    {
     "data": {
      "text/html": [
       "<div>\n",
       "<style scoped>\n",
       "    .dataframe tbody tr th:only-of-type {\n",
       "        vertical-align: middle;\n",
       "    }\n",
       "\n",
       "    .dataframe tbody tr th {\n",
       "        vertical-align: top;\n",
       "    }\n",
       "\n",
       "    .dataframe thead th {\n",
       "        text-align: right;\n",
       "    }\n",
       "</style>\n",
       "<table border=\"1\" class=\"dataframe\">\n",
       "  <thead>\n",
       "    <tr style=\"text-align: right;\">\n",
       "      <th></th>\n",
       "      <th>Id</th>\n",
       "      <th>DistrictId</th>\n",
       "      <th>Rooms</th>\n",
       "      <th>Square</th>\n",
       "      <th>LifeSquare</th>\n",
       "      <th>KitchenSquare</th>\n",
       "      <th>Floor</th>\n",
       "      <th>HouseFloor</th>\n",
       "      <th>HouseYear</th>\n",
       "      <th>Ecology_1</th>\n",
       "      <th>...</th>\n",
       "      <th>Helthcare_2</th>\n",
       "      <th>Shops_1</th>\n",
       "      <th>Shops_2</th>\n",
       "      <th>Price</th>\n",
       "      <th>District_size</th>\n",
       "      <th>IsDistrictLarge</th>\n",
       "      <th>MedPriceByDistrict</th>\n",
       "      <th>Yaer_cat</th>\n",
       "      <th>Floor_cat</th>\n",
       "      <th>MedPriceByFloorYear</th>\n",
       "    </tr>\n",
       "  </thead>\n",
       "  <tbody>\n",
       "    <tr>\n",
       "      <th>0</th>\n",
       "      <td>14038</td>\n",
       "      <td>35</td>\n",
       "      <td>2.0</td>\n",
       "      <td>47.981561</td>\n",
       "      <td>29.442751</td>\n",
       "      <td>6.0</td>\n",
       "      <td>7</td>\n",
       "      <td>9.0</td>\n",
       "      <td>1969</td>\n",
       "      <td>0.089040</td>\n",
       "      <td>...</td>\n",
       "      <td>0</td>\n",
       "      <td>11</td>\n",
       "      <td>1</td>\n",
       "      <td>184966.930730</td>\n",
       "      <td>22</td>\n",
       "      <td>0</td>\n",
       "      <td>207786.135836</td>\n",
       "      <td>3</td>\n",
       "      <td>3</td>\n",
       "      <td>188098.168461</td>\n",
       "    </tr>\n",
       "    <tr>\n",
       "      <th>1</th>\n",
       "      <td>15053</td>\n",
       "      <td>41</td>\n",
       "      <td>3.0</td>\n",
       "      <td>65.683640</td>\n",
       "      <td>40.049543</td>\n",
       "      <td>8.0</td>\n",
       "      <td>7</td>\n",
       "      <td>9.0</td>\n",
       "      <td>1978</td>\n",
       "      <td>0.000070</td>\n",
       "      <td>...</td>\n",
       "      <td>1</td>\n",
       "      <td>16</td>\n",
       "      <td>1</td>\n",
       "      <td>300009.450063</td>\n",
       "      <td>87</td>\n",
       "      <td>0</td>\n",
       "      <td>300009.450063</td>\n",
       "      <td>3</td>\n",
       "      <td>3</td>\n",
       "      <td>188098.168461</td>\n",
       "    </tr>\n",
       "    <tr>\n",
       "      <th>2</th>\n",
       "      <td>4765</td>\n",
       "      <td>53</td>\n",
       "      <td>2.0</td>\n",
       "      <td>44.947953</td>\n",
       "      <td>29.197612</td>\n",
       "      <td>0.0</td>\n",
       "      <td>8</td>\n",
       "      <td>12.0</td>\n",
       "      <td>1968</td>\n",
       "      <td>0.049637</td>\n",
       "      <td>...</td>\n",
       "      <td>1</td>\n",
       "      <td>3</td>\n",
       "      <td>1</td>\n",
       "      <td>220925.908524</td>\n",
       "      <td>174</td>\n",
       "      <td>1</td>\n",
       "      <td>263206.223152</td>\n",
       "      <td>3</td>\n",
       "      <td>3</td>\n",
       "      <td>188098.168461</td>\n",
       "    </tr>\n",
       "    <tr>\n",
       "      <th>3</th>\n",
       "      <td>5809</td>\n",
       "      <td>58</td>\n",
       "      <td>2.0</td>\n",
       "      <td>53.352981</td>\n",
       "      <td>52.731512</td>\n",
       "      <td>9.0</td>\n",
       "      <td>8</td>\n",
       "      <td>17.0</td>\n",
       "      <td>1977</td>\n",
       "      <td>0.437885</td>\n",
       "      <td>...</td>\n",
       "      <td>0</td>\n",
       "      <td>5</td>\n",
       "      <td>1</td>\n",
       "      <td>175616.227217</td>\n",
       "      <td>179</td>\n",
       "      <td>1</td>\n",
       "      <td>166809.665642</td>\n",
       "      <td>3</td>\n",
       "      <td>3</td>\n",
       "      <td>188098.168461</td>\n",
       "    </tr>\n",
       "    <tr>\n",
       "      <th>4</th>\n",
       "      <td>10783</td>\n",
       "      <td>99</td>\n",
       "      <td>1.0</td>\n",
       "      <td>39.649192</td>\n",
       "      <td>23.776169</td>\n",
       "      <td>7.0</td>\n",
       "      <td>11</td>\n",
       "      <td>12.0</td>\n",
       "      <td>1976</td>\n",
       "      <td>0.012339</td>\n",
       "      <td>...</td>\n",
       "      <td>2</td>\n",
       "      <td>4</td>\n",
       "      <td>1</td>\n",
       "      <td>150226.531644</td>\n",
       "      <td>97</td>\n",
       "      <td>0</td>\n",
       "      <td>158539.052715</td>\n",
       "      <td>3</td>\n",
       "      <td>4</td>\n",
       "      <td>185190.984473</td>\n",
       "    </tr>\n",
       "  </tbody>\n",
       "</table>\n",
       "<p>5 rows × 26 columns</p>\n",
       "</div>"
      ],
      "text/plain": [
       "      Id  DistrictId  Rooms     Square  LifeSquare  KitchenSquare  Floor  \\\n",
       "0  14038          35    2.0  47.981561   29.442751            6.0      7   \n",
       "1  15053          41    3.0  65.683640   40.049543            8.0      7   \n",
       "2   4765          53    2.0  44.947953   29.197612            0.0      8   \n",
       "3   5809          58    2.0  53.352981   52.731512            9.0      8   \n",
       "4  10783          99    1.0  39.649192   23.776169            7.0     11   \n",
       "\n",
       "   HouseFloor  HouseYear  Ecology_1  ...  Helthcare_2  Shops_1  Shops_2  \\\n",
       "0         9.0       1969   0.089040  ...            0       11        1   \n",
       "1         9.0       1978   0.000070  ...            1       16        1   \n",
       "2        12.0       1968   0.049637  ...            1        3        1   \n",
       "3        17.0       1977   0.437885  ...            0        5        1   \n",
       "4        12.0       1976   0.012339  ...            2        4        1   \n",
       "\n",
       "           Price  District_size  IsDistrictLarge  MedPriceByDistrict  \\\n",
       "0  184966.930730             22                0       207786.135836   \n",
       "1  300009.450063             87                0       300009.450063   \n",
       "2  220925.908524            174                1       263206.223152   \n",
       "3  175616.227217            179                1       166809.665642   \n",
       "4  150226.531644             97                0       158539.052715   \n",
       "\n",
       "   Yaer_cat  Floor_cat  MedPriceByFloorYear  \n",
       "0         3          3        188098.168461  \n",
       "1         3          3        188098.168461  \n",
       "2         3          3        188098.168461  \n",
       "3         3          3        188098.168461  \n",
       "4         3          4        185190.984473  \n",
       "\n",
       "[5 rows x 26 columns]"
      ]
     },
     "execution_count": 90,
     "metadata": {},
     "output_type": "execute_result"
    }
   ],
   "source": [
    "train_df = train_df.merge(med_price_by_floor_yaer, on=['Yaer_cat', 'Floor_cat'], how='left')\n",
    "train_df.head()"
   ]
  },
  {
   "cell_type": "markdown",
   "id": "5f37eed9",
   "metadata": {},
   "source": [
    "Мы объединили train_df с таблицей med_price_by_floor_yaer по столбцам Yaer_cat и Floor_cat.\n",
    "\n",
    "Это объединение позволяет использовать информацию о медианной цене по категориям года постройки и этажности как дополнительные признаки для модели прогнозирования цен на недвижимость."
   ]
  },
  {
   "cell_type": "code",
   "execution_count": 91,
   "id": "37d9eba1",
   "metadata": {},
   "outputs": [],
   "source": [
    "class FeatureGenerator:\n",
    "    '''Генерация новых фич'''\n",
    "    \n",
    "    def __init__(self):\n",
    "        self.District_size = None\n",
    "        self.binary_to_numbers = None\n",
    "        self.med_price_by_district = None\n",
    "        self.med_price_by_district_median = None\n",
    "        self.med_price_by_floor_year = None\n",
    "        self.med_price_by_floor_year_median = None\n",
    "        self.house_year_max = None\n",
    "        self.floor_max = None\n",
    "        \n",
    "    def fit(self, X, y=None):\n",
    "        '''Фитинг данных'''\n",
    "        X = X.copy()\n",
    "        \n",
    "        #Binary features\n",
    "        self.binary_to_numbers = {'A': 0, 'B': 1}\n",
    "        \n",
    "        #DistrictId\n",
    "        self.District_size = X['DistrictId'].value_counts().reset_index()\\\n",
    "                            .rename(columns={'index': 'DistrictId', 'DistrictId': 'District_size'})\n",
    "        \n",
    "        #Target encoding\n",
    "        df = X.copy()\n",
    "        \n",
    "        if y is not None:\n",
    "            df['Price'] = y.values\n",
    "            self.med_price_by_district = df.groupby(['DistrictId', 'Rooms'], as_index=False).agg({'Price': 'median'})\\\n",
    "                                           .rename(columns={'Price': 'MedPriceByDistrict'})\n",
    "            self.med_price_by_district_median = self.med_price_by_district['MedPriceByDistrict'].median()\n",
    "            \n",
    "            self.floor_max = df['Floor'].max()\n",
    "            self.house_year_max = df['HouseYear'].max()\n",
    "            df = self.floor_to_cat(df)\n",
    "            df = self.year_to_cat(df)\n",
    "            self.med_price_by_floor_year = df.groupby(['Year_cat', 'Floor_cat'], as_index=False).agg({'Price': 'median'})\\\n",
    "                                             .rename(columns={'Price': 'MedPriceByFloorYear'})\n",
    "            self.med_price_by_floor_year_median = self.med_price_by_floor_year['MedPriceByFloorYear'].median()\n",
    "        \n",
    "    def transform(self, X):\n",
    "        '''Трансформация данных'''\n",
    "        X = X.copy()\n",
    "        \n",
    "        #Binary features\n",
    "        X['Ecology_2'] = X['Ecology_2'].map(self.binary_to_numbers)\n",
    "        X['Ecology_3'] = X['Ecology_3'].map(self.binary_to_numbers)\n",
    "        X['Shops_2'] = X['Shops_2'].map(self.binary_to_numbers)\n",
    "        \n",
    "        #DistrictId, IsDistrictLarge\n",
    "        X = X.merge(self.District_size, on=['DistrictId'], how='left')\n",
    "        \n",
    "        X['New_district'] = 0\n",
    "        X.loc[X['District_size'].isna(), 'New_district'] = 1\n",
    "        X['District_size'].fillna(5, inplace=True)\n",
    "        X['IsDistrictLarge'] = (X['District_size'] > 100).astype(int)\n",
    "        \n",
    "        #More categorical features\n",
    "        X = self.floor_to_cat(X)\n",
    "        X = self.year_to_cat(X)\n",
    "        \n",
    "        #Target encoding\n",
    "        if self.med_price_by_district is not None:\n",
    "            X = X.merge(self.med_price_by_district, on=['DistrictId', 'Rooms'], how='left')\n",
    "            X['MedPriceByDistrict'].fillna(self.med_price_by_district_median, inplace=True)\n",
    "            \n",
    "        if self.med_price_by_floor_year is not None:\n",
    "            X = X.merge(self.med_price_by_floor_year, on=['Year_cat', 'Floor_cat'], how='left')\n",
    "            X['MedPriceByFloorYear'].fillna(self.med_price_by_floor_year_median, inplace=True) \n",
    "            \n",
    "        return X       \n",
    "        \n",
    "    def floor_to_cat(self, X):\n",
    "        '''Категоризация этажа'''\n",
    "        bins = [0, 3, 5, 9, 15, self.floor_max]\n",
    "        X['Floor_cat'] = pd.cut(X['Floor'], bins=bins, labels=False)\n",
    "        X['Floor_cat'].fillna(-1, inplace=True)\n",
    "        return X  \n",
    "    \n",
    "    def year_to_cat(self, X):\n",
    "        '''Категоризация года постройки'''\n",
    "        bins = [0, 1941, 1945, 1980, 2000, 2010, self.house_year_max]\n",
    "        X['Year_cat'] = pd.cut(X['HouseYear'], bins=bins, labels=False)\n",
    "        X['Year_cat'].fillna(-1, inplace=True)\n",
    "        return X\n",
    "\n",
    "        \n",
    "        "
   ]
  },
  {
   "cell_type": "markdown",
   "id": "53eddc83",
   "metadata": {},
   "source": [
    "Этот класс FeatureGenerator предназначен для генерации новых признаков на основе данных обучающего набора.\n",
    "* Этот класс позволяет автоматизировать процесс создания новых признаков на основе обучающего набора данных, что может значительно улучшить работу моделей машинного обучения и их предсказательные способности."
   ]
  },
  {
   "cell_type": "markdown",
   "id": "d83f93ee",
   "metadata": {},
   "source": [
    "## Отбор признаков"
   ]
  },
  {
   "cell_type": "code",
   "execution_count": 92,
   "id": "da5adff3",
   "metadata": {},
   "outputs": [
    {
     "data": {
      "text/plain": [
       "['Id',\n",
       " 'DistrictId',\n",
       " 'Rooms',\n",
       " 'Square',\n",
       " 'LifeSquare',\n",
       " 'KitchenSquare',\n",
       " 'Floor',\n",
       " 'HouseFloor',\n",
       " 'HouseYear',\n",
       " 'Ecology_1',\n",
       " 'Ecology_2',\n",
       " 'Ecology_3',\n",
       " 'Social_1',\n",
       " 'Social_2',\n",
       " 'Social_3',\n",
       " 'Healthcare_1',\n",
       " 'Helthcare_2',\n",
       " 'Shops_1',\n",
       " 'Shops_2',\n",
       " 'Price',\n",
       " 'District_size',\n",
       " 'IsDistrictLarge',\n",
       " 'MedPriceByDistrict',\n",
       " 'Yaer_cat',\n",
       " 'Floor_cat',\n",
       " 'MedPriceByFloorYear']"
      ]
     },
     "execution_count": 92,
     "metadata": {},
     "output_type": "execute_result"
    }
   ],
   "source": [
    "train_df.columns.tolist()"
   ]
  },
  {
   "cell_type": "code",
   "execution_count": 93,
   "id": "618dffa1",
   "metadata": {},
   "outputs": [],
   "source": [
    "features_names = ['Rooms', 'Square', 'LifeSquare', 'KitchenSquare', 'Floor', 'HouseFloor', 'HouseYear', 'Ecology_1',\n",
    "                  'Ecology_2', 'Ecology_3', 'Social_1', 'Social_2', 'Social_3', 'Helthcare_2', 'Shops_1', 'Shops_2',]\n",
    "\n",
    "new_features_names = ['Rooms_outlier', 'HouseFloor_outlier', 'HouseYear_outLier', 'LifeSquare_nan', 'DistrictId', \n",
    "                      'New_district', 'IsDistrictLarge', 'MedPriceByDistrict', 'MedPriceByFloorYear']\n",
    "\n",
    "target_name = 'Price'"
   ]
  },
  {
   "cell_type": "markdown",
   "id": "b7a04a23",
   "metadata": {},
   "source": [
    "Создадим признаки необходимые для создания модели."
   ]
  },
  {
   "cell_type": "markdown",
   "id": "387fb620",
   "metadata": {},
   "source": [
    "## Разбиение на train и test"
   ]
  },
  {
   "cell_type": "code",
   "execution_count": 94,
   "id": "86f2c906",
   "metadata": {},
   "outputs": [],
   "source": [
    "train_df = pd.read_csv('train.csv')\n",
    "test_df = pd.read_csv('test.csv')"
   ]
  },
  {
   "cell_type": "markdown",
   "id": "1d3de23f",
   "metadata": {},
   "source": [
    "Загрузили данные из файлов 'train.csv' и 'test.csv'."
   ]
  },
  {
   "cell_type": "code",
   "execution_count": 95,
   "id": "e5007670",
   "metadata": {},
   "outputs": [],
   "source": [
    "X = train_df.drop(columns=target_name)\n",
    "y = train_df[target_name]"
   ]
  },
  {
   "cell_type": "markdown",
   "id": "31d4912e",
   "metadata": {},
   "source": [
    "Создали матрицу признаков X, исключив из исходного датафрейма столбец с целевой переменной, а также вектор целевой переменной y, содержащий только столбец с ценами на недвижимость."
   ]
  },
  {
   "cell_type": "code",
   "execution_count": 96,
   "id": "b7572fe0",
   "metadata": {},
   "outputs": [],
   "source": [
    "X_train, X_valid, y_train, y_valid = train_test_split(X, y, test_size=.33, shuffle=True, random_state=42)"
   ]
  },
  {
   "cell_type": "markdown",
   "id": "d5526871",
   "metadata": {},
   "source": [
    "Разделили данные на обучающий и валидационный наборы с использованием функции train_test_split из библиотеки sklearn."
   ]
  },
  {
   "cell_type": "code",
   "execution_count": 97,
   "id": "4728ef9b",
   "metadata": {},
   "outputs": [],
   "source": [
    "preprocessor = DataPreprocessing()\n",
    "preprocessor.fit(X_train)\n",
    "X_train = preprocessor.transform(X_train)\n",
    "X_valid = preprocessor.transform(X_valid)\n",
    "test_df = preprocessor.transform(test_df)"
   ]
  },
  {
   "cell_type": "markdown",
   "id": "8443b18b",
   "metadata": {},
   "source": [
    "Используем класс DataPreprocessing, который мы создали ранее. \n",
    "\n",
    "Здесь создается экземпляр класса DataPreprocessing и вызывается метод fit, который мы реализовали. В методе fit происходит сохранение статистик (например, медиан для заполнения пропусков) на основе обучающего набора данных X_train.\n",
    "\n",
    "Затем метод transform применяется к обучающему набору X_train, валидационному набору X_valid и тестовым данным test_df.\n",
    "\n",
    "Такой подход позволяет однократно вычислить и сохранить статистики на обучающем наборе и повторно использовать их для преобразования валидационного набора и тестовых данных, обеспечивая консистентность обработки данных на различных этапах анализа и моделирования."
   ]
  },
  {
   "cell_type": "code",
   "execution_count": 98,
   "id": "9515e9e6",
   "metadata": {},
   "outputs": [],
   "source": [
    "feature_gen = FeatureGenerator()\n",
    "feature_gen.fit(X_train, y_train)\n",
    "X_train = feature_gen.transform(X_train)\n",
    "X_valid = feature_gen.transform(X_valid)\n",
    "test_df = feature_gen.transform(test_df)"
   ]
  },
  {
   "cell_type": "markdown",
   "id": "ac24eb33",
   "metadata": {},
   "source": [
    "Применение класса FeatureGenerator позволит нам создать и использовать новые признаки, основанные на обучающем наборе данных.\n",
    "\n",
    "Здесь создается экземпляр класса FeatureGenerator и вызывается метод fit, который обучает генератор признаков на обучающем наборе данных X_train и целевой переменной y_train.\n",
    "\n",
    "Теперь, когда мы применили FeatureGenerator для преобразования наших данных, можно переходить к обучению модели."
   ]
  },
  {
   "cell_type": "code",
   "execution_count": 100,
   "id": "06a4ee91",
   "metadata": {},
   "outputs": [
    {
     "name": "stdout",
     "output_type": "stream",
     "text": [
      "Отсутствующие столбцы в тренировочном наборе: []\n",
      "Отсутствующие столбцы в валидационном набор\n"
     ]
    }
   ],
   "source": [
    "# Проверка наличия нужных столбцов\n",
    "required_columns = ['Rooms', 'Square', 'LifeSquare', 'KitchenSquare', 'Floor', 'HouseFloor', 'HouseYear', 'Ecology_1',\n",
    "                    'Ecology_2', 'Ecology_3', 'Social_1', 'Social_2', 'Social_3', 'Helthcare_2', 'Shops_1', 'Shops_2',\n",
    "                    'Rooms_outlier', 'HouseFloor_outlier', 'HouseYear_outLier', 'LifeSquare_nan', 'DistrictId', \n",
    "                    'New_district', 'IsDistrictLarge', 'MedPriceByDistrict', 'MedPriceByFloorYear']\n",
    "\n",
    "missing_columns_train = [col for col in required_columns if col not in X_train.columns]\n",
    "missing_columns_valid = [col for col in required_columns if col not in X_valid.columns]\n",
    "\n",
    "print(f\"Отсутствующие столбцы в тренировочном наборе: {missing_columns_train}\")\n",
    "print(f\"Отсутствующие столбцы в валидационном набор\")"
   ]
  },
  {
   "cell_type": "code",
   "execution_count": 101,
   "id": "952d5388",
   "metadata": {},
   "outputs": [
    {
     "name": "stdout",
     "output_type": "stream",
     "text": [
      "Все необходимые столбцы присутствуют в наборах данных.\n"
     ]
    }
   ],
   "source": [
    "# Если все необходимые столбцы на месте, можно продолжить с построением модели и оценкой\n",
    "if not missing_columns_train and not missing_columns_valid:\n",
    "    print(\"Все необходимые столбцы присутствуют в наборах данных.\")\n",
    "else:\n",
    "    print(\"Некоторые столбцы отсутствуют. Проверьте этапы обработки данных и генерации признаков.\")"
   ]
  },
  {
   "cell_type": "code",
   "execution_count": 113,
   "id": "389bc249",
   "metadata": {},
   "outputs": [
    {
     "data": {
      "text/plain": [
       "RandomForestRegressor(random_state=42)"
      ]
     },
     "execution_count": 113,
     "metadata": {},
     "output_type": "execute_result"
    }
   ],
   "source": [
    "# Построение модели\n",
    "model = RandomForestRegressor(criterion='squared_error', random_state=42)\n",
    "model.fit(X_train, y_train)"
   ]
  },
  {
   "cell_type": "markdown",
   "id": "a0bc6188",
   "metadata": {},
   "source": [
    "Мы обучили модель случайного леса на преобразованных данных."
   ]
  },
  {
   "cell_type": "code",
   "execution_count": 103,
   "id": "7623d077",
   "metadata": {},
   "outputs": [],
   "source": [
    "# Прогнозирование\n",
    "y_pred_train = model.predict(X_train)\n",
    "y_pred_valid = model.predict(X_valid)"
   ]
  },
  {
   "cell_type": "markdown",
   "id": "1b892e7c",
   "metadata": {},
   "source": [
    "Мы получили предсказания для тренировочного и валидационного наборов данных."
   ]
  },
  {
   "cell_type": "code",
   "execution_count": 114,
   "id": "eac72efd",
   "metadata": {},
   "outputs": [
    {
     "name": "stdout",
     "output_type": "stream",
     "text": [
      "R^2 на тренировочном наборе: 0.9666146890728663\n",
      "R^2 на валидационном наборе: 0.6968480389636074\n"
     ]
    }
   ],
   "source": [
    "# Оценка модели\n",
    "r2_train = r2(y_train, y_pred_train)\n",
    "r2_valid = r2(y_valid, y_pred_valid)\n",
    "\n",
    "print(f\"R^2 на тренировочном наборе: {r2_train}\")\n",
    "print(f\"R^2 на валидационном наборе: {r2_valid}\")"
   ]
  },
  {
   "cell_type": "markdown",
   "id": "6b7a3bcc",
   "metadata": {},
   "source": [
    "Наши результаты показывают, что модель имеет высокую точность на тренировочном наборе данных (R^2 = 0.97), но значительно хуже на валидационном наборе данных (R^2 = 0.70). Это может указывать на переобучение (overfitting), когда модель слишком хорошо запоминает тренировочные данные, но не обобщает свои выводы на новые данные."
   ]
  },
  {
   "cell_type": "code",
   "execution_count": 115,
   "id": "aba92bca",
   "metadata": {},
   "outputs": [
    {
     "data": {
      "image/png": "[encoded data removed]",
      "text/plain": [
       "<Figure size 1000x600 with 1 Axes>"
      ]
     },
     "metadata": {},
     "output_type": "display_data"
    },
    {
     "data": {
      "image/png": "[encoded data removed]",
      "text/plain": [
       "<Figure size 1000x600 with 1 Axes>"
      ]
     },
     "metadata": {},
     "output_type": "display_data"
    }
   ],
   "source": [
    "# Scatter plot для тренировочного набора\n",
    "plt.figure(figsize=(10, 6))\n",
    "plt.scatter(y_train, y_pred_train, color='blue', alpha=0.5)\n",
    "plt.xlabel('Истинные значения')\n",
    "plt.ylabel('Предсказанные значения')\n",
    "plt.title('Scatter plot для тренировочного набора')\n",
    "plt.show()\n",
    "\n",
    "# Scatter plot для валидационного набора\n",
    "plt.figure(figsize=(10, 6))\n",
    "plt.scatter(y_valid, y_pred_valid, color='green', alpha=0.5)\n",
    "plt.xlabel('Истинные значения')\n",
    "plt.ylabel('Предсказанные значения')\n",
    "plt.title('Scatter plot для валидационного набора')\n",
    "plt.show()"
   ]
  },
  {
   "cell_type": "markdown",
   "id": "74bbb64d",
   "metadata": {},
   "source": [
    "На графиках наглядно видно, что на валидационных данных, модель значительно потеряла в точности."
   ]
  },
  {
   "cell_type": "code",
   "execution_count": 119,
   "id": "dc0b393f",
   "metadata": {},
   "outputs": [
    {
     "data": {
      "text/plain": [
       "array([0.77291058, 0.72513856, 0.73876558])"
      ]
     },
     "execution_count": 119,
     "metadata": {},
     "output_type": "execute_result"
    }
   ],
   "source": [
    "cv_score = cross_val_score(model, X_train, y_train, scoring='r2', cv=KFold(n_splits=3, shuffle=True, random_state=42))\n",
    "cv_score"
   ]
  },
  {
   "cell_type": "markdown",
   "id": "d2f0f718",
   "metadata": {},
   "source": [
    "Результаты перекрестной проверки (cross-validation) показывают, что на трех фолдах модель имеет оценки \n",
    "𝑅\n",
    "2\n",
    "\n",
    " :\n",
    "\n",
    "* 0.7729\n",
    "* 0.7251\n",
    "* 0.7388\n",
    "Среднее значение этих оценок составляет примерно 0.7456, что лучше отражает истинное качество модели на новых данных, чем оценка на единственном валидационном наборе. Это подтверждает, что модель имеет некоторое обобщающее свойство, но все же можно улучшить качество модели."
   ]
  },
  {
   "cell_type": "code",
   "execution_count": 120,
   "id": "5c9bd905",
   "metadata": {},
   "outputs": [
    {
     "data": {
      "text/plain": [
       "0.7456049056842794"
      ]
     },
     "execution_count": 120,
     "metadata": {},
     "output_type": "execute_result"
    }
   ],
   "source": [
    "cv_score.mean()"
   ]
  },
  {
   "cell_type": "markdown",
   "id": "64e0aa17",
   "metadata": {},
   "source": [
    "## Важность признаков"
   ]
  },
  {
   "cell_type": "code",
   "execution_count": 122,
   "id": "96161767",
   "metadata": {},
   "outputs": [
    {
     "data": {
      "text/html": [
       "<div>\n",
       "<style scoped>\n",
       "    .dataframe tbody tr th:only-of-type {\n",
       "        vertical-align: middle;\n",
       "    }\n",
       "\n",
       "    .dataframe tbody tr th {\n",
       "        vertical-align: top;\n",
       "    }\n",
       "\n",
       "    .dataframe thead th {\n",
       "        text-align: right;\n",
       "    }\n",
       "</style>\n",
       "<table border=\"1\" class=\"dataframe\">\n",
       "  <thead>\n",
       "    <tr style=\"text-align: right;\">\n",
       "      <th></th>\n",
       "      <th>feature_name</th>\n",
       "      <th>importance</th>\n",
       "    </tr>\n",
       "  </thead>\n",
       "  <tbody>\n",
       "    <tr>\n",
       "      <th>27</th>\n",
       "      <td>MedPriceByDistrict</td>\n",
       "      <td>6.351760e-01</td>\n",
       "    </tr>\n",
       "    <tr>\n",
       "      <th>3</th>\n",
       "      <td>Square</td>\n",
       "      <td>1.106545e-01</td>\n",
       "    </tr>\n",
       "    <tr>\n",
       "      <th>4</th>\n",
       "      <td>LifeSquare</td>\n",
       "      <td>2.752544e-02</td>\n",
       "    </tr>\n",
       "    <tr>\n",
       "      <th>0</th>\n",
       "      <td>Id</td>\n",
       "      <td>2.279641e-02</td>\n",
       "    </tr>\n",
       "    <tr>\n",
       "      <th>14</th>\n",
       "      <td>Social_3</td>\n",
       "      <td>2.089003e-02</td>\n",
       "    </tr>\n",
       "    <tr>\n",
       "      <th>22</th>\n",
       "      <td>District_size</td>\n",
       "      <td>1.999726e-02</td>\n",
       "    </tr>\n",
       "    <tr>\n",
       "      <th>8</th>\n",
       "      <td>HouseYear</td>\n",
       "      <td>1.790794e-02</td>\n",
       "    </tr>\n",
       "    <tr>\n",
       "      <th>28</th>\n",
       "      <td>MedPriceByFloorYear</td>\n",
       "      <td>1.762113e-02</td>\n",
       "    </tr>\n",
       "    <tr>\n",
       "      <th>5</th>\n",
       "      <td>KitchenSquare</td>\n",
       "      <td>1.748757e-02</td>\n",
       "    </tr>\n",
       "    <tr>\n",
       "      <th>7</th>\n",
       "      <td>HouseFloor</td>\n",
       "      <td>1.746414e-02</td>\n",
       "    </tr>\n",
       "    <tr>\n",
       "      <th>13</th>\n",
       "      <td>Social_2</td>\n",
       "      <td>1.398563e-02</td>\n",
       "    </tr>\n",
       "    <tr>\n",
       "      <th>6</th>\n",
       "      <td>Floor</td>\n",
       "      <td>1.367647e-02</td>\n",
       "    </tr>\n",
       "    <tr>\n",
       "      <th>9</th>\n",
       "      <td>Ecology_1</td>\n",
       "      <td>1.347009e-02</td>\n",
       "    </tr>\n",
       "    <tr>\n",
       "      <th>12</th>\n",
       "      <td>Social_1</td>\n",
       "      <td>1.244576e-02</td>\n",
       "    </tr>\n",
       "    <tr>\n",
       "      <th>1</th>\n",
       "      <td>DistrictId</td>\n",
       "      <td>1.180509e-02</td>\n",
       "    </tr>\n",
       "    <tr>\n",
       "      <th>16</th>\n",
       "      <td>Shops_1</td>\n",
       "      <td>7.574493e-03</td>\n",
       "    </tr>\n",
       "    <tr>\n",
       "      <th>2</th>\n",
       "      <td>Rooms</td>\n",
       "      <td>4.918124e-03</td>\n",
       "    </tr>\n",
       "    <tr>\n",
       "      <th>15</th>\n",
       "      <td>Helthcare_2</td>\n",
       "      <td>4.509044e-03</td>\n",
       "    </tr>\n",
       "    <tr>\n",
       "      <th>25</th>\n",
       "      <td>Floor_cat</td>\n",
       "      <td>3.394633e-03</td>\n",
       "    </tr>\n",
       "    <tr>\n",
       "      <th>26</th>\n",
       "      <td>Year_cat</td>\n",
       "      <td>1.901108e-03</td>\n",
       "    </tr>\n",
       "    <tr>\n",
       "      <th>19</th>\n",
       "      <td>HouseFloor_outlier</td>\n",
       "      <td>1.688401e-03</td>\n",
       "    </tr>\n",
       "    <tr>\n",
       "      <th>11</th>\n",
       "      <td>Ecology_3</td>\n",
       "      <td>8.294671e-04</td>\n",
       "    </tr>\n",
       "    <tr>\n",
       "      <th>21</th>\n",
       "      <td>LifeSquare_nan</td>\n",
       "      <td>7.793936e-04</td>\n",
       "    </tr>\n",
       "    <tr>\n",
       "      <th>17</th>\n",
       "      <td>Shops_2</td>\n",
       "      <td>6.683167e-04</td>\n",
       "    </tr>\n",
       "    <tr>\n",
       "      <th>24</th>\n",
       "      <td>IsDistrictLarge</td>\n",
       "      <td>3.825621e-04</td>\n",
       "    </tr>\n",
       "    <tr>\n",
       "      <th>10</th>\n",
       "      <td>Ecology_2</td>\n",
       "      <td>3.464451e-04</td>\n",
       "    </tr>\n",
       "    <tr>\n",
       "      <th>18</th>\n",
       "      <td>Rooms_outlier</td>\n",
       "      <td>1.044791e-04</td>\n",
       "    </tr>\n",
       "    <tr>\n",
       "      <th>20</th>\n",
       "      <td>HouseYear_outLier</td>\n",
       "      <td>1.380244e-07</td>\n",
       "    </tr>\n",
       "    <tr>\n",
       "      <th>23</th>\n",
       "      <td>New_district</td>\n",
       "      <td>0.000000e+00</td>\n",
       "    </tr>\n",
       "  </tbody>\n",
       "</table>\n",
       "</div>"
      ],
      "text/plain": [
       "           feature_name    importance\n",
       "27   MedPriceByDistrict  6.351760e-01\n",
       "3                Square  1.106545e-01\n",
       "4            LifeSquare  2.752544e-02\n",
       "0                    Id  2.279641e-02\n",
       "14             Social_3  2.089003e-02\n",
       "22        District_size  1.999726e-02\n",
       "8             HouseYear  1.790794e-02\n",
       "28  MedPriceByFloorYear  1.762113e-02\n",
       "5         KitchenSquare  1.748757e-02\n",
       "7            HouseFloor  1.746414e-02\n",
       "13             Social_2  1.398563e-02\n",
       "6                 Floor  1.367647e-02\n",
       "9             Ecology_1  1.347009e-02\n",
       "12             Social_1  1.244576e-02\n",
       "1            DistrictId  1.180509e-02\n",
       "16              Shops_1  7.574493e-03\n",
       "2                 Rooms  4.918124e-03\n",
       "15          Helthcare_2  4.509044e-03\n",
       "25            Floor_cat  3.394633e-03\n",
       "26             Year_cat  1.901108e-03\n",
       "19   HouseFloor_outlier  1.688401e-03\n",
       "11            Ecology_3  8.294671e-04\n",
       "21       LifeSquare_nan  7.793936e-04\n",
       "17              Shops_2  6.683167e-04\n",
       "24      IsDistrictLarge  3.825621e-04\n",
       "10            Ecology_2  3.464451e-04\n",
       "18        Rooms_outlier  1.044791e-04\n",
       "20    HouseYear_outLier  1.380244e-07\n",
       "23         New_district  0.000000e+00"
      ]
     },
     "execution_count": 122,
     "metadata": {},
     "output_type": "execute_result"
    }
   ],
   "source": [
    "feature_importances = pd.DataFrame(zip(X_train.columns, model.feature_importances_), \n",
    "                                  columns=['feature_name', 'importance'])\n",
    "feature_importances.sort_values(by='importance', ascending=False)"
   ]
  },
  {
   "cell_type": "code",
   "execution_count": 123,
   "id": "7b2235b5",
   "metadata": {},
   "outputs": [
    {
     "data": {
      "text/plain": [
       "(5000, 29)"
      ]
     },
     "execution_count": 123,
     "metadata": {},
     "output_type": "execute_result"
    }
   ],
   "source": [
    "test_df.shape"
   ]
  },
  {
   "cell_type": "code",
   "execution_count": 124,
   "id": "b7d5e1b5",
   "metadata": {},
   "outputs": [
    {
     "data": {
      "text/plain": [
       "array([163403.24306979, 230642.00224255, 263108.06729299, ...,\n",
       "       299428.28707001, 188166.57393547, 184046.3001647 ])"
      ]
     },
     "execution_count": 124,
     "metadata": {},
     "output_type": "execute_result"
    }
   ],
   "source": [
    "predictions = model.predict(test_df)\n",
    "predictions"
   ]
  },
  {
   "cell_type": "code",
   "execution_count": 130,
   "id": "7d3b85f7",
   "metadata": {},
   "outputs": [],
   "source": [
    "submit_df = pd.DataFrame({\n",
    "    'Id': test_df.index,  \n",
    "    'Price': predictions  \n",
    "})\n"
   ]
  },
  {
   "cell_type": "code",
   "execution_count": 131,
   "id": "d1655301",
   "metadata": {},
   "outputs": [
    {
     "data": {
      "text/html": [
       "<div>\n",
       "<style scoped>\n",
       "    .dataframe tbody tr th:only-of-type {\n",
       "        vertical-align: middle;\n",
       "    }\n",
       "\n",
       "    .dataframe tbody tr th {\n",
       "        vertical-align: top;\n",
       "    }\n",
       "\n",
       "    .dataframe thead th {\n",
       "        text-align: right;\n",
       "    }\n",
       "</style>\n",
       "<table border=\"1\" class=\"dataframe\">\n",
       "  <thead>\n",
       "    <tr style=\"text-align: right;\">\n",
       "      <th></th>\n",
       "      <th>Id</th>\n",
       "      <th>Price</th>\n",
       "    </tr>\n",
       "  </thead>\n",
       "  <tbody>\n",
       "    <tr>\n",
       "      <th>0</th>\n",
       "      <td>0</td>\n",
       "      <td>163403.243070</td>\n",
       "    </tr>\n",
       "    <tr>\n",
       "      <th>1</th>\n",
       "      <td>1</td>\n",
       "      <td>230642.002243</td>\n",
       "    </tr>\n",
       "    <tr>\n",
       "      <th>2</th>\n",
       "      <td>2</td>\n",
       "      <td>263108.067293</td>\n",
       "    </tr>\n",
       "    <tr>\n",
       "      <th>3</th>\n",
       "      <td>3</td>\n",
       "      <td>311378.745815</td>\n",
       "    </tr>\n",
       "    <tr>\n",
       "      <th>4</th>\n",
       "      <td>4</td>\n",
       "      <td>150280.184720</td>\n",
       "    </tr>\n",
       "  </tbody>\n",
       "</table>\n",
       "</div>"
      ],
      "text/plain": [
       "   Id          Price\n",
       "0   0  163403.243070\n",
       "1   1  230642.002243\n",
       "2   2  263108.067293\n",
       "3   3  311378.745815\n",
       "4   4  150280.184720"
      ]
     },
     "execution_count": 131,
     "metadata": {},
     "output_type": "execute_result"
    }
   ],
   "source": [
    "submit_df.head()"
   ]
  },
  {
   "cell_type": "code",
   "execution_count": 132,
   "id": "919ef5ff",
   "metadata": {},
   "outputs": [],
   "source": [
    "submit_df.to_csv('rf_submit.csv', index=False)\n"
   ]
  },
  {
   "cell_type": "code",
   "execution_count": 135,
   "id": "5659c3ce",
   "metadata": {},
   "outputs": [],
   "source": [
    "with open('rf_submit.pkl', 'wb') as f:\n",
    "    pickle.dump(submit_df, f)\n"
   ]
  },
  {
   "cell_type": "markdown",
   "id": "8e52ec4e",
   "metadata": {},
   "source": [
    "## Заключение\n",
    "\n",
    "В рамках данной работы была выполнена комплексная задача по построению модели для предсказания стоимости недвижимости. Процесс состоял из нескольких этапов, каждый из которых был важен для достижения конечной цели:\n",
    "\n",
    "1. Предварительная обработка данных:\n",
    "\n",
    "* Заполнение пропущенных значений и обработка выбросов.\n",
    "* Преобразование бинарных признаков в числовой формат.\n",
    "2. Генерация новых признаков:\n",
    "\n",
    "* Добавлены признаки на основе районов (DistrictId), этажности (Floor) и года постройки здания (HouseYear).\n",
    "* Категоризация этажей и годов постройки.\n",
    "* Создание новых признаков, основанных на медианной стоимости недвижимости в зависимости от района и количества комнат, а также от категории этажа и года постройки.\n",
    "3. Построение модели:\n",
    "\n",
    "* Были обучены и оценены несколько моделей, включая RandomForestRegressor.\n",
    "* Использовалась перекрестная проверка (cross-validation) для оценки стабильности и обобщающей способности модели.\n",
    "4. Оценка модели:\n",
    "\n",
    "* Модель показала высокие значения \n",
    "𝑅\n",
    "2\n",
    "R \n",
    "2\n",
    "  на тренировочном наборе данных (~0.967), что свидетельствует о хорошем обучении модели.\n",
    "* Значение \n",
    "𝑅\n",
    "2\n",
    "R \n",
    "2\n",
    "  на валидационном наборе данных было ниже (~0.697), что указывает на возможные проблемы с переобучением.\n",
    "* Перекрестная проверка показала среднее значение \n",
    "𝑅\n",
    "2\n",
    "R \n",
    "2\n",
    "  на уровне 0.747, что подтверждает необходимость дальнейшей работы над улучшением модели.\n",
    "  \n",
    "### Рекомендации для дальнейшей работы\n",
    "\n",
    "Для повышения качества модели и улучшения её обобщающей способности, рекомендуется выполнить следующие шаги:\n",
    "\n",
    "1. Подбор гиперпараметров:\n",
    "\n",
    "* Использование методов GridSearchCV или RandomizedSearchCV для нахождения оптимальных гиперпараметров модели.\n",
    "2. Инженерия признаков:\n",
    "\n",
    "* Исследование и добавление новых значимых признаков.\n",
    "* Проведение анализа корреляции признаков с целевой переменной для удаления слабокоррелированных признаков.\n",
    "3. Использование других моделей:\n",
    "\n",
    "* Экспериментирование с более сложными моделями, такими как градиентный бустинг (XGBoost, LightGBM).\n",
    "4. Увеличение объема данных:\n",
    "\n",
    "* Сбор и добавление новых данных для обучения модели, если это возможно.\n",
    "5. Анализ ошибок:\n",
    "\n",
    "* Анализ предсказаний модели и выявление случаев, где модель работает хуже всего, для дальнейшего улучшения.\n",
    "\n",
    "### Заключение\n",
    "\n",
    "В ходе работы была построена и оценена модель для предсказания стоимости недвижимости. Несмотря на хорошие результаты на тренировочном наборе данных, есть потенциал для дальнейшего улучшения модели, особенно в части её обобщающей способности.\n",
    "Применение предложенных рекомендаций поможет добиться более точных и надежных предсказаний."
   ]
  },
  {
   "cell_type": "code",
   "execution_count": null,
   "id": "058d44fa",
   "metadata": {},
   "outputs": [],
   "source": []
  }
 ],
 "metadata": {
  "kernelspec": {
   "display_name": "Python 3.11.2 64-bit",
   "language": "python",
   "name": "python3"
  },
  "language_info": {
   "codemirror_mode": {
    "name": "ipython",
    "version": 3
   },
   "file_extension": ".py",
   "mimetype": "text/x-python",
   "name": "python",
   "nbconvert_exporter": "python",
   "pygments_lexer": "ipython3",
   "version": "3.11.2"
  },
  "vscode": {
   "interpreter": {
    "hash": "1c629eccfdf8545529de563785dace1040dd62c38aa3fb6e09c82c51165828e0"
   }
  }
 },
 "nbformat": 4,
 "nbformat_minor": 5
}
